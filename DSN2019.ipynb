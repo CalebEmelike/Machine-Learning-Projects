{
 "cells": [
  {
   "cell_type": "code",
   "execution_count": 72,
   "metadata": {},
   "outputs": [],
   "source": [
    "import pandas as pd\n",
    "import numpy as np\n",
    "import matplotlib.pyplot as plt\n",
    "import seaborn as sns\n",
    "import warnings\n",
    "warnings.filterwarnings('ignore')\n",
    "pd.set_option('display.max_columns',100)"
   ]
  },
  {
   "cell_type": "code",
   "execution_count": 73,
   "metadata": {},
   "outputs": [],
   "source": [
    "data_test = pd.read_csv('test.csv')\n",
    "data_train = pd.read_csv('train.csv')\n",
    "sample_sub = pd.read_csv('sample_submission2.csv')"
   ]
  },
  {
   "cell_type": "code",
   "execution_count": 74,
   "metadata": {},
   "outputs": [
    {
     "data": {
      "text/html": [
       "<div>\n",
       "<style scoped>\n",
       "    .dataframe tbody tr th:only-of-type {\n",
       "        vertical-align: middle;\n",
       "    }\n",
       "\n",
       "    .dataframe tbody tr th {\n",
       "        vertical-align: top;\n",
       "    }\n",
       "\n",
       "    .dataframe thead th {\n",
       "        text-align: right;\n",
       "    }\n",
       "</style>\n",
       "<table border=\"1\" class=\"dataframe\">\n",
       "  <thead>\n",
       "    <tr style=\"text-align: right;\">\n",
       "      <th></th>\n",
       "      <th>EmployeeNo</th>\n",
       "      <th>Division</th>\n",
       "      <th>Qualification</th>\n",
       "      <th>Gender</th>\n",
       "      <th>Channel_of_Recruitment</th>\n",
       "      <th>Trainings_Attended</th>\n",
       "      <th>Year_of_birth</th>\n",
       "      <th>Last_performance_score</th>\n",
       "      <th>Year_of_recruitment</th>\n",
       "      <th>Targets_met</th>\n",
       "      <th>Previous_Award</th>\n",
       "      <th>Training_score_average</th>\n",
       "      <th>State_Of_Origin</th>\n",
       "      <th>Foreign_schooled</th>\n",
       "      <th>Marital_Status</th>\n",
       "      <th>Past_Disciplinary_Action</th>\n",
       "      <th>Previous_IntraDepartmental_Movement</th>\n",
       "      <th>No_of_previous_employers</th>\n",
       "      <th>Promoted_or_Not</th>\n",
       "    </tr>\n",
       "  </thead>\n",
       "  <tbody>\n",
       "    <tr>\n",
       "      <th>0</th>\n",
       "      <td>YAK/S/00001</td>\n",
       "      <td>Commercial Sales and Marketing</td>\n",
       "      <td>MSc, MBA and PhD</td>\n",
       "      <td>Female</td>\n",
       "      <td>Direct Internal process</td>\n",
       "      <td>2</td>\n",
       "      <td>1986</td>\n",
       "      <td>12.5</td>\n",
       "      <td>2011</td>\n",
       "      <td>1</td>\n",
       "      <td>0</td>\n",
       "      <td>41</td>\n",
       "      <td>ANAMBRA</td>\n",
       "      <td>No</td>\n",
       "      <td>Married</td>\n",
       "      <td>No</td>\n",
       "      <td>No</td>\n",
       "      <td>0</td>\n",
       "      <td>0</td>\n",
       "    </tr>\n",
       "    <tr>\n",
       "      <th>1</th>\n",
       "      <td>YAK/S/00002</td>\n",
       "      <td>Customer Support and Field Operations</td>\n",
       "      <td>First Degree or HND</td>\n",
       "      <td>Male</td>\n",
       "      <td>Agency and others</td>\n",
       "      <td>2</td>\n",
       "      <td>1991</td>\n",
       "      <td>12.5</td>\n",
       "      <td>2015</td>\n",
       "      <td>0</td>\n",
       "      <td>0</td>\n",
       "      <td>52</td>\n",
       "      <td>ANAMBRA</td>\n",
       "      <td>Yes</td>\n",
       "      <td>Married</td>\n",
       "      <td>No</td>\n",
       "      <td>No</td>\n",
       "      <td>0</td>\n",
       "      <td>0</td>\n",
       "    </tr>\n",
       "    <tr>\n",
       "      <th>2</th>\n",
       "      <td>YAK/S/00003</td>\n",
       "      <td>Commercial Sales and Marketing</td>\n",
       "      <td>First Degree or HND</td>\n",
       "      <td>Male</td>\n",
       "      <td>Direct Internal process</td>\n",
       "      <td>2</td>\n",
       "      <td>1987</td>\n",
       "      <td>7.5</td>\n",
       "      <td>2012</td>\n",
       "      <td>0</td>\n",
       "      <td>0</td>\n",
       "      <td>42</td>\n",
       "      <td>KATSINA</td>\n",
       "      <td>Yes</td>\n",
       "      <td>Married</td>\n",
       "      <td>No</td>\n",
       "      <td>No</td>\n",
       "      <td>0</td>\n",
       "      <td>0</td>\n",
       "    </tr>\n",
       "    <tr>\n",
       "      <th>3</th>\n",
       "      <td>YAK/S/00004</td>\n",
       "      <td>Commercial Sales and Marketing</td>\n",
       "      <td>First Degree or HND</td>\n",
       "      <td>Male</td>\n",
       "      <td>Agency and others</td>\n",
       "      <td>3</td>\n",
       "      <td>1982</td>\n",
       "      <td>2.5</td>\n",
       "      <td>2009</td>\n",
       "      <td>0</td>\n",
       "      <td>0</td>\n",
       "      <td>42</td>\n",
       "      <td>NIGER</td>\n",
       "      <td>Yes</td>\n",
       "      <td>Single</td>\n",
       "      <td>No</td>\n",
       "      <td>No</td>\n",
       "      <td>1</td>\n",
       "      <td>0</td>\n",
       "    </tr>\n",
       "    <tr>\n",
       "      <th>4</th>\n",
       "      <td>YAK/S/00006</td>\n",
       "      <td>Information and Strategy</td>\n",
       "      <td>First Degree or HND</td>\n",
       "      <td>Male</td>\n",
       "      <td>Direct Internal process</td>\n",
       "      <td>3</td>\n",
       "      <td>1990</td>\n",
       "      <td>7.5</td>\n",
       "      <td>2012</td>\n",
       "      <td>0</td>\n",
       "      <td>0</td>\n",
       "      <td>77</td>\n",
       "      <td>AKWA IBOM</td>\n",
       "      <td>Yes</td>\n",
       "      <td>Married</td>\n",
       "      <td>No</td>\n",
       "      <td>No</td>\n",
       "      <td>1</td>\n",
       "      <td>0</td>\n",
       "    </tr>\n",
       "  </tbody>\n",
       "</table>\n",
       "</div>"
      ],
      "text/plain": [
       "    EmployeeNo                               Division        Qualification  \\\n",
       "0  YAK/S/00001         Commercial Sales and Marketing     MSc, MBA and PhD   \n",
       "1  YAK/S/00002  Customer Support and Field Operations  First Degree or HND   \n",
       "2  YAK/S/00003         Commercial Sales and Marketing  First Degree or HND   \n",
       "3  YAK/S/00004         Commercial Sales and Marketing  First Degree or HND   \n",
       "4  YAK/S/00006               Information and Strategy  First Degree or HND   \n",
       "\n",
       "   Gender   Channel_of_Recruitment  Trainings_Attended  Year_of_birth  \\\n",
       "0  Female  Direct Internal process                   2           1986   \n",
       "1    Male        Agency and others                   2           1991   \n",
       "2    Male  Direct Internal process                   2           1987   \n",
       "3    Male        Agency and others                   3           1982   \n",
       "4    Male  Direct Internal process                   3           1990   \n",
       "\n",
       "   Last_performance_score  Year_of_recruitment  Targets_met  Previous_Award  \\\n",
       "0                    12.5                 2011            1               0   \n",
       "1                    12.5                 2015            0               0   \n",
       "2                     7.5                 2012            0               0   \n",
       "3                     2.5                 2009            0               0   \n",
       "4                     7.5                 2012            0               0   \n",
       "\n",
       "   Training_score_average State_Of_Origin Foreign_schooled Marital_Status  \\\n",
       "0                      41         ANAMBRA               No        Married   \n",
       "1                      52         ANAMBRA              Yes        Married   \n",
       "2                      42         KATSINA              Yes        Married   \n",
       "3                      42           NIGER              Yes         Single   \n",
       "4                      77       AKWA IBOM              Yes        Married   \n",
       "\n",
       "  Past_Disciplinary_Action Previous_IntraDepartmental_Movement  \\\n",
       "0                       No                                  No   \n",
       "1                       No                                  No   \n",
       "2                       No                                  No   \n",
       "3                       No                                  No   \n",
       "4                       No                                  No   \n",
       "\n",
       "  No_of_previous_employers  Promoted_or_Not  \n",
       "0                        0                0  \n",
       "1                        0                0  \n",
       "2                        0                0  \n",
       "3                        1                0  \n",
       "4                        1                0  "
      ]
     },
     "execution_count": 74,
     "metadata": {},
     "output_type": "execute_result"
    }
   ],
   "source": [
    "data_train.head()"
   ]
  },
  {
   "cell_type": "code",
   "execution_count": 75,
   "metadata": {},
   "outputs": [
    {
     "data": {
      "text/plain": [
       "First Degree or HND         25578\n",
       "MSc, MBA and PhD            10469\n",
       "Non-University Education      586\n",
       "Name: Qualification, dtype: int64"
      ]
     },
     "execution_count": 75,
     "metadata": {},
     "output_type": "execute_result"
    }
   ],
   "source": [
    "data_train['Qualification'].value_counts()\n",
    "#data_test.shape"
   ]
  },
  {
   "cell_type": "code",
   "execution_count": 76,
   "metadata": {},
   "outputs": [
    {
     "data": {
      "text/plain": [
       "(16496, 18)"
      ]
     },
     "execution_count": 76,
     "metadata": {},
     "output_type": "execute_result"
    }
   ],
   "source": [
    "data_test.shape"
   ]
  },
  {
   "cell_type": "code",
   "execution_count": 77,
   "metadata": {},
   "outputs": [
    {
     "data": {
      "text/plain": [
       "Index(['EmployeeNo', 'Division', 'Qualification', 'Gender',\n",
       "       'Channel_of_Recruitment', 'Trainings_Attended', 'Year_of_birth',\n",
       "       'Last_performance_score', 'Year_of_recruitment', 'Targets_met',\n",
       "       'Previous_Award', 'Training_score_average', 'State_Of_Origin',\n",
       "       'Foreign_schooled', 'Marital_Status', 'Past_Disciplinary_Action',\n",
       "       'Previous_IntraDepartmental_Movement', 'No_of_previous_employers',\n",
       "       'Promoted_or_Not'],\n",
       "      dtype='object')"
      ]
     },
     "execution_count": 77,
     "metadata": {},
     "output_type": "execute_result"
    }
   ],
   "source": [
    "data_train.columns"
   ]
  },
  {
   "cell_type": "code",
   "execution_count": 78,
   "metadata": {},
   "outputs": [
    {
     "data": {
      "text/html": [
       "<div>\n",
       "<style scoped>\n",
       "    .dataframe tbody tr th:only-of-type {\n",
       "        vertical-align: middle;\n",
       "    }\n",
       "\n",
       "    .dataframe tbody tr th {\n",
       "        vertical-align: top;\n",
       "    }\n",
       "\n",
       "    .dataframe thead th {\n",
       "        text-align: right;\n",
       "    }\n",
       "</style>\n",
       "<table border=\"1\" class=\"dataframe\">\n",
       "  <thead>\n",
       "    <tr style=\"text-align: right;\">\n",
       "      <th></th>\n",
       "      <th>EmployeeNo</th>\n",
       "      <th>Division</th>\n",
       "      <th>Qualification</th>\n",
       "      <th>Gender</th>\n",
       "      <th>Channel_of_Recruitment</th>\n",
       "      <th>Trainings_Attended</th>\n",
       "      <th>Year_of_birth</th>\n",
       "      <th>Last_performance_score</th>\n",
       "      <th>Year_of_recruitment</th>\n",
       "      <th>Targets_met</th>\n",
       "      <th>Previous_Award</th>\n",
       "      <th>Training_score_average</th>\n",
       "      <th>State_Of_Origin</th>\n",
       "      <th>Foreign_schooled</th>\n",
       "      <th>Marital_Status</th>\n",
       "      <th>Past_Disciplinary_Action</th>\n",
       "      <th>Previous_IntraDepartmental_Movement</th>\n",
       "      <th>No_of_previous_employers</th>\n",
       "    </tr>\n",
       "  </thead>\n",
       "  <tbody>\n",
       "    <tr>\n",
       "      <th>0</th>\n",
       "      <td>YAK/S/00005</td>\n",
       "      <td>Information Technology and Solution Support</td>\n",
       "      <td>First Degree or HND</td>\n",
       "      <td>Male</td>\n",
       "      <td>Agency and others</td>\n",
       "      <td>2</td>\n",
       "      <td>1976</td>\n",
       "      <td>7.5</td>\n",
       "      <td>2017</td>\n",
       "      <td>0</td>\n",
       "      <td>0</td>\n",
       "      <td>65</td>\n",
       "      <td>FCT</td>\n",
       "      <td>Yes</td>\n",
       "      <td>Married</td>\n",
       "      <td>No</td>\n",
       "      <td>No</td>\n",
       "      <td>1</td>\n",
       "    </tr>\n",
       "    <tr>\n",
       "      <th>1</th>\n",
       "      <td>YAK/S/00011</td>\n",
       "      <td>Information Technology and Solution Support</td>\n",
       "      <td>NaN</td>\n",
       "      <td>Male</td>\n",
       "      <td>Direct Internal process</td>\n",
       "      <td>2</td>\n",
       "      <td>1991</td>\n",
       "      <td>0.0</td>\n",
       "      <td>2018</td>\n",
       "      <td>0</td>\n",
       "      <td>0</td>\n",
       "      <td>69</td>\n",
       "      <td>OGUN</td>\n",
       "      <td>Yes</td>\n",
       "      <td>Married</td>\n",
       "      <td>No</td>\n",
       "      <td>No</td>\n",
       "      <td>1</td>\n",
       "    </tr>\n",
       "    <tr>\n",
       "      <th>2</th>\n",
       "      <td>YAK/S/00015</td>\n",
       "      <td>Research and Innovation</td>\n",
       "      <td>MSc, MBA and PhD</td>\n",
       "      <td>Male</td>\n",
       "      <td>Direct Internal process</td>\n",
       "      <td>2</td>\n",
       "      <td>1984</td>\n",
       "      <td>7.5</td>\n",
       "      <td>2012</td>\n",
       "      <td>0</td>\n",
       "      <td>0</td>\n",
       "      <td>76</td>\n",
       "      <td>KANO</td>\n",
       "      <td>Yes</td>\n",
       "      <td>Married</td>\n",
       "      <td>No</td>\n",
       "      <td>No</td>\n",
       "      <td>1</td>\n",
       "    </tr>\n",
       "    <tr>\n",
       "      <th>3</th>\n",
       "      <td>YAK/S/00016</td>\n",
       "      <td>Customer Support and Field Operations</td>\n",
       "      <td>First Degree or HND</td>\n",
       "      <td>Male</td>\n",
       "      <td>Agency and others</td>\n",
       "      <td>2</td>\n",
       "      <td>1984</td>\n",
       "      <td>2.5</td>\n",
       "      <td>2009</td>\n",
       "      <td>0</td>\n",
       "      <td>0</td>\n",
       "      <td>52</td>\n",
       "      <td>RIVERS</td>\n",
       "      <td>No</td>\n",
       "      <td>Single</td>\n",
       "      <td>No</td>\n",
       "      <td>No</td>\n",
       "      <td>1</td>\n",
       "    </tr>\n",
       "    <tr>\n",
       "      <th>4</th>\n",
       "      <td>YAK/S/00017</td>\n",
       "      <td>Information Technology and Solution Support</td>\n",
       "      <td>First Degree or HND</td>\n",
       "      <td>Male</td>\n",
       "      <td>Agency and others</td>\n",
       "      <td>2</td>\n",
       "      <td>1983</td>\n",
       "      <td>7.5</td>\n",
       "      <td>2014</td>\n",
       "      <td>1</td>\n",
       "      <td>0</td>\n",
       "      <td>69</td>\n",
       "      <td>FCT</td>\n",
       "      <td>Yes</td>\n",
       "      <td>Married</td>\n",
       "      <td>No</td>\n",
       "      <td>No</td>\n",
       "      <td>0</td>\n",
       "    </tr>\n",
       "  </tbody>\n",
       "</table>\n",
       "</div>"
      ],
      "text/plain": [
       "    EmployeeNo                                     Division  \\\n",
       "0  YAK/S/00005  Information Technology and Solution Support   \n",
       "1  YAK/S/00011  Information Technology and Solution Support   \n",
       "2  YAK/S/00015                      Research and Innovation   \n",
       "3  YAK/S/00016        Customer Support and Field Operations   \n",
       "4  YAK/S/00017  Information Technology and Solution Support   \n",
       "\n",
       "         Qualification Gender   Channel_of_Recruitment  Trainings_Attended  \\\n",
       "0  First Degree or HND   Male        Agency and others                   2   \n",
       "1                  NaN   Male  Direct Internal process                   2   \n",
       "2     MSc, MBA and PhD   Male  Direct Internal process                   2   \n",
       "3  First Degree or HND   Male        Agency and others                   2   \n",
       "4  First Degree or HND   Male        Agency and others                   2   \n",
       "\n",
       "   Year_of_birth  Last_performance_score  Year_of_recruitment  Targets_met  \\\n",
       "0           1976                     7.5                 2017            0   \n",
       "1           1991                     0.0                 2018            0   \n",
       "2           1984                     7.5                 2012            0   \n",
       "3           1984                     2.5                 2009            0   \n",
       "4           1983                     7.5                 2014            1   \n",
       "\n",
       "   Previous_Award  Training_score_average State_Of_Origin Foreign_schooled  \\\n",
       "0               0                      65             FCT              Yes   \n",
       "1               0                      69            OGUN              Yes   \n",
       "2               0                      76            KANO              Yes   \n",
       "3               0                      52          RIVERS               No   \n",
       "4               0                      69             FCT              Yes   \n",
       "\n",
       "  Marital_Status Past_Disciplinary_Action Previous_IntraDepartmental_Movement  \\\n",
       "0        Married                       No                                  No   \n",
       "1        Married                       No                                  No   \n",
       "2        Married                       No                                  No   \n",
       "3         Single                       No                                  No   \n",
       "4        Married                       No                                  No   \n",
       "\n",
       "  No_of_previous_employers  \n",
       "0                        1  \n",
       "1                        1  \n",
       "2                        1  \n",
       "3                        1  \n",
       "4                        0  "
      ]
     },
     "execution_count": 78,
     "metadata": {},
     "output_type": "execute_result"
    }
   ],
   "source": [
    "data_test.head()"
   ]
  },
  {
   "cell_type": "code",
   "execution_count": 79,
   "metadata": {},
   "outputs": [
    {
     "data": {
      "text/plain": [
       "EmployeeNo                               0\n",
       "Division                                 0\n",
       "Qualification                          730\n",
       "Gender                                   0\n",
       "Channel_of_Recruitment                   0\n",
       "Trainings_Attended                       0\n",
       "Year_of_birth                            0\n",
       "Last_performance_score                   0\n",
       "Year_of_recruitment                      0\n",
       "Targets_met                              0\n",
       "Previous_Award                           0\n",
       "Training_score_average                   0\n",
       "State_Of_Origin                          0\n",
       "Foreign_schooled                         0\n",
       "Marital_Status                           0\n",
       "Past_Disciplinary_Action                 0\n",
       "Previous_IntraDepartmental_Movement      0\n",
       "No_of_previous_employers                 0\n",
       "dtype: int64"
      ]
     },
     "execution_count": 79,
     "metadata": {},
     "output_type": "execute_result"
    }
   ],
   "source": [
    "data_test.isnull().sum()"
   ]
  },
  {
   "cell_type": "code",
   "execution_count": 80,
   "metadata": {},
   "outputs": [
    {
     "data": {
      "text/plain": [
       "EmployeeNo                                0\n",
       "Division                                  0\n",
       "Qualification                          1679\n",
       "Gender                                    0\n",
       "Channel_of_Recruitment                    0\n",
       "Trainings_Attended                        0\n",
       "Year_of_birth                             0\n",
       "Last_performance_score                    0\n",
       "Year_of_recruitment                       0\n",
       "Targets_met                               0\n",
       "Previous_Award                            0\n",
       "Training_score_average                    0\n",
       "State_Of_Origin                           0\n",
       "Foreign_schooled                          0\n",
       "Marital_Status                            0\n",
       "Past_Disciplinary_Action                  0\n",
       "Previous_IntraDepartmental_Movement       0\n",
       "No_of_previous_employers                  0\n",
       "Promoted_or_Not                           0\n",
       "dtype: int64"
      ]
     },
     "execution_count": 80,
     "metadata": {},
     "output_type": "execute_result"
    }
   ],
   "source": [
    "data_train.isnull().sum()"
   ]
  },
  {
   "cell_type": "code",
   "execution_count": 81,
   "metadata": {},
   "outputs": [
    {
     "data": {
      "text/plain": [
       "['EmployeeNo',\n",
       " 'Division',\n",
       " 'Qualification',\n",
       " 'Gender',\n",
       " 'Channel_of_Recruitment',\n",
       " 'State_Of_Origin',\n",
       " 'Foreign_schooled',\n",
       " 'Marital_Status',\n",
       " 'Past_Disciplinary_Action',\n",
       " 'Previous_IntraDepartmental_Movement',\n",
       " 'No_of_previous_employers']"
      ]
     },
     "execution_count": 81,
     "metadata": {},
     "output_type": "execute_result"
    }
   ],
   "source": [
    "cat_col = data_train.select_dtypes(exclude=['int64','float64']).columns\n",
    "cat_col  = list(cat_col)\n",
    "cat_col\n",
    "\n",
    "\n",
    "cat_col = data_test.select_dtypes(exclude=['int64','float64']).columns\n",
    "cat_col  = list(cat_col)\n",
    "cat_col\n"
   ]
  },
  {
   "cell_type": "code",
   "execution_count": 82,
   "metadata": {},
   "outputs": [
    {
     "name": "stdout",
     "output_type": "stream",
     "text": [
      "Value count for EmployeeNo\n",
      "38312\n",
      "____________________________________________________________\n",
      "Value count for Division\n",
      "9\n",
      "____________________________________________________________\n",
      "Value count for Qualification\n",
      "3\n",
      "____________________________________________________________\n",
      "Value count for Gender\n",
      "2\n",
      "____________________________________________________________\n",
      "Value count for Channel_of_Recruitment\n",
      "3\n",
      "____________________________________________________________\n",
      "Value count for State_Of_Origin\n",
      "37\n",
      "____________________________________________________________\n",
      "Value count for Foreign_schooled\n",
      "2\n",
      "____________________________________________________________\n",
      "Value count for Marital_Status\n",
      "3\n",
      "____________________________________________________________\n",
      "Value count for Past_Disciplinary_Action\n",
      "2\n",
      "____________________________________________________________\n",
      "Value count for Previous_IntraDepartmental_Movement\n",
      "2\n",
      "____________________________________________________________\n",
      "Value count for No_of_previous_employers\n",
      "7\n",
      "____________________________________________________________\n",
      "Value count for EmployeeNo\n",
      "16496\n",
      "____________________________________________________________\n",
      "Value count for Division\n",
      "9\n",
      "____________________________________________________________\n",
      "Value count for Qualification\n",
      "3\n",
      "____________________________________________________________\n",
      "Value count for Gender\n",
      "2\n",
      "____________________________________________________________\n",
      "Value count for Channel_of_Recruitment\n",
      "3\n",
      "____________________________________________________________\n",
      "Value count for State_Of_Origin\n",
      "37\n",
      "____________________________________________________________\n",
      "Value count for Foreign_schooled\n",
      "2\n",
      "____________________________________________________________\n",
      "Value count for Marital_Status\n",
      "3\n",
      "____________________________________________________________\n",
      "Value count for Past_Disciplinary_Action\n",
      "2\n",
      "____________________________________________________________\n",
      "Value count for Previous_IntraDepartmental_Movement\n",
      "2\n",
      "____________________________________________________________\n",
      "Value count for No_of_previous_employers\n",
      "7\n",
      "____________________________________________________________\n"
     ]
    }
   ],
   "source": [
    "for col in cat_col:\n",
    "    print(\"Value count for {}\".format(col))\n",
    "    print(data_train[col].nunique())\n",
    "    print(\"___\"*20)\n",
    "    \n",
    "for col in cat_col:\n",
    "    print(\"Value count for {}\".format(col))\n",
    "    print(data_test[col].nunique())\n",
    "    print(\"___\"*20)\n",
    "    \n",
    "    "
   ]
  },
  {
   "cell_type": "code",
   "execution_count": 83,
   "metadata": {},
   "outputs": [
    {
     "data": {
      "text/plain": [
       "LAGOS          6204\n",
       "FCT            2389\n",
       "OGUN           2302\n",
       "RIVERS         2222\n",
       "ANAMBRA        1710\n",
       "KANO           1649\n",
       "DELTA          1594\n",
       "OYO            1508\n",
       "KADUNA         1399\n",
       "IMO            1307\n",
       "EDO            1259\n",
       "ENUGU          1025\n",
       "ABIA            950\n",
       "OSUN            929\n",
       "ONDO            875\n",
       "NIGER           857\n",
       "KWARA           765\n",
       "PLATEAU         739\n",
       "AKWA IBOM       673\n",
       "NASSARAWA       632\n",
       "KATSINA         615\n",
       "ADAMAWA         605\n",
       "BENUE           579\n",
       "BAUCHI          557\n",
       "KOGI            542\n",
       "SOKOTO          499\n",
       "CROSS RIVER     495\n",
       "EKITI           455\n",
       "BORNO           447\n",
       "TARABA          400\n",
       "KEBBI           393\n",
       "BAYELSA         324\n",
       "EBONYI          313\n",
       "GOMBE           291\n",
       "ZAMFARA         290\n",
       "JIGAWA          262\n",
       "YOBE            257\n",
       "Name: State_Of_Origin, dtype: int64"
      ]
     },
     "execution_count": 83,
     "metadata": {},
     "output_type": "execute_result"
    }
   ],
   "source": [
    "data_train['State_Of_Origin'].value_counts()"
   ]
  },
  {
   "cell_type": "code",
   "execution_count": 84,
   "metadata": {},
   "outputs": [],
   "source": [
    "data_train.drop(columns=['EmployeeNo'], axis=1, inplace=True)\n",
    "data_test.drop(columns=['EmployeeNo',], axis=1, inplace=True)\n"
   ]
  },
  {
   "cell_type": "code",
   "execution_count": 85,
   "metadata": {},
   "outputs": [
    {
     "data": {
      "text/html": [
       "<div>\n",
       "<style scoped>\n",
       "    .dataframe tbody tr th:only-of-type {\n",
       "        vertical-align: middle;\n",
       "    }\n",
       "\n",
       "    .dataframe tbody tr th {\n",
       "        vertical-align: top;\n",
       "    }\n",
       "\n",
       "    .dataframe thead th {\n",
       "        text-align: right;\n",
       "    }\n",
       "</style>\n",
       "<table border=\"1\" class=\"dataframe\">\n",
       "  <thead>\n",
       "    <tr style=\"text-align: right;\">\n",
       "      <th></th>\n",
       "      <th>Division</th>\n",
       "      <th>Qualification</th>\n",
       "      <th>Gender</th>\n",
       "      <th>Channel_of_Recruitment</th>\n",
       "      <th>Trainings_Attended</th>\n",
       "      <th>Year_of_birth</th>\n",
       "      <th>Last_performance_score</th>\n",
       "      <th>Year_of_recruitment</th>\n",
       "      <th>Targets_met</th>\n",
       "      <th>Previous_Award</th>\n",
       "      <th>Training_score_average</th>\n",
       "      <th>State_Of_Origin</th>\n",
       "      <th>Foreign_schooled</th>\n",
       "      <th>Marital_Status</th>\n",
       "      <th>Past_Disciplinary_Action</th>\n",
       "      <th>Previous_IntraDepartmental_Movement</th>\n",
       "      <th>No_of_previous_employers</th>\n",
       "      <th>Promoted_or_Not</th>\n",
       "    </tr>\n",
       "  </thead>\n",
       "  <tbody>\n",
       "    <tr>\n",
       "      <th>0</th>\n",
       "      <td>Commercial Sales and Marketing</td>\n",
       "      <td>MSc, MBA and PhD</td>\n",
       "      <td>Female</td>\n",
       "      <td>Direct Internal process</td>\n",
       "      <td>2</td>\n",
       "      <td>1986</td>\n",
       "      <td>12.5</td>\n",
       "      <td>2011</td>\n",
       "      <td>1</td>\n",
       "      <td>0</td>\n",
       "      <td>41</td>\n",
       "      <td>ANAMBRA</td>\n",
       "      <td>No</td>\n",
       "      <td>Married</td>\n",
       "      <td>No</td>\n",
       "      <td>No</td>\n",
       "      <td>0</td>\n",
       "      <td>0</td>\n",
       "    </tr>\n",
       "    <tr>\n",
       "      <th>1</th>\n",
       "      <td>Customer Support and Field Operations</td>\n",
       "      <td>First Degree or HND</td>\n",
       "      <td>Male</td>\n",
       "      <td>Agency and others</td>\n",
       "      <td>2</td>\n",
       "      <td>1991</td>\n",
       "      <td>12.5</td>\n",
       "      <td>2015</td>\n",
       "      <td>0</td>\n",
       "      <td>0</td>\n",
       "      <td>52</td>\n",
       "      <td>ANAMBRA</td>\n",
       "      <td>Yes</td>\n",
       "      <td>Married</td>\n",
       "      <td>No</td>\n",
       "      <td>No</td>\n",
       "      <td>0</td>\n",
       "      <td>0</td>\n",
       "    </tr>\n",
       "    <tr>\n",
       "      <th>2</th>\n",
       "      <td>Commercial Sales and Marketing</td>\n",
       "      <td>First Degree or HND</td>\n",
       "      <td>Male</td>\n",
       "      <td>Direct Internal process</td>\n",
       "      <td>2</td>\n",
       "      <td>1987</td>\n",
       "      <td>7.5</td>\n",
       "      <td>2012</td>\n",
       "      <td>0</td>\n",
       "      <td>0</td>\n",
       "      <td>42</td>\n",
       "      <td>KATSINA</td>\n",
       "      <td>Yes</td>\n",
       "      <td>Married</td>\n",
       "      <td>No</td>\n",
       "      <td>No</td>\n",
       "      <td>0</td>\n",
       "      <td>0</td>\n",
       "    </tr>\n",
       "    <tr>\n",
       "      <th>3</th>\n",
       "      <td>Commercial Sales and Marketing</td>\n",
       "      <td>First Degree or HND</td>\n",
       "      <td>Male</td>\n",
       "      <td>Agency and others</td>\n",
       "      <td>3</td>\n",
       "      <td>1982</td>\n",
       "      <td>2.5</td>\n",
       "      <td>2009</td>\n",
       "      <td>0</td>\n",
       "      <td>0</td>\n",
       "      <td>42</td>\n",
       "      <td>NIGER</td>\n",
       "      <td>Yes</td>\n",
       "      <td>Single</td>\n",
       "      <td>No</td>\n",
       "      <td>No</td>\n",
       "      <td>1</td>\n",
       "      <td>0</td>\n",
       "    </tr>\n",
       "    <tr>\n",
       "      <th>4</th>\n",
       "      <td>Information and Strategy</td>\n",
       "      <td>First Degree or HND</td>\n",
       "      <td>Male</td>\n",
       "      <td>Direct Internal process</td>\n",
       "      <td>3</td>\n",
       "      <td>1990</td>\n",
       "      <td>7.5</td>\n",
       "      <td>2012</td>\n",
       "      <td>0</td>\n",
       "      <td>0</td>\n",
       "      <td>77</td>\n",
       "      <td>AKWA IBOM</td>\n",
       "      <td>Yes</td>\n",
       "      <td>Married</td>\n",
       "      <td>No</td>\n",
       "      <td>No</td>\n",
       "      <td>1</td>\n",
       "      <td>0</td>\n",
       "    </tr>\n",
       "  </tbody>\n",
       "</table>\n",
       "</div>"
      ],
      "text/plain": [
       "                                Division        Qualification  Gender  \\\n",
       "0         Commercial Sales and Marketing     MSc, MBA and PhD  Female   \n",
       "1  Customer Support and Field Operations  First Degree or HND    Male   \n",
       "2         Commercial Sales and Marketing  First Degree or HND    Male   \n",
       "3         Commercial Sales and Marketing  First Degree or HND    Male   \n",
       "4               Information and Strategy  First Degree or HND    Male   \n",
       "\n",
       "    Channel_of_Recruitment  Trainings_Attended  Year_of_birth  \\\n",
       "0  Direct Internal process                   2           1986   \n",
       "1        Agency and others                   2           1991   \n",
       "2  Direct Internal process                   2           1987   \n",
       "3        Agency and others                   3           1982   \n",
       "4  Direct Internal process                   3           1990   \n",
       "\n",
       "   Last_performance_score  Year_of_recruitment  Targets_met  Previous_Award  \\\n",
       "0                    12.5                 2011            1               0   \n",
       "1                    12.5                 2015            0               0   \n",
       "2                     7.5                 2012            0               0   \n",
       "3                     2.5                 2009            0               0   \n",
       "4                     7.5                 2012            0               0   \n",
       "\n",
       "   Training_score_average State_Of_Origin Foreign_schooled Marital_Status  \\\n",
       "0                      41         ANAMBRA               No        Married   \n",
       "1                      52         ANAMBRA              Yes        Married   \n",
       "2                      42         KATSINA              Yes        Married   \n",
       "3                      42           NIGER              Yes         Single   \n",
       "4                      77       AKWA IBOM              Yes        Married   \n",
       "\n",
       "  Past_Disciplinary_Action Previous_IntraDepartmental_Movement  \\\n",
       "0                       No                                  No   \n",
       "1                       No                                  No   \n",
       "2                       No                                  No   \n",
       "3                       No                                  No   \n",
       "4                       No                                  No   \n",
       "\n",
       "  No_of_previous_employers  Promoted_or_Not  \n",
       "0                        0                0  \n",
       "1                        0                0  \n",
       "2                        0                0  \n",
       "3                        1                0  \n",
       "4                        1                0  "
      ]
     },
     "execution_count": 85,
     "metadata": {},
     "output_type": "execute_result"
    }
   ],
   "source": [
    "data_train.head()"
   ]
  },
  {
   "cell_type": "code",
   "execution_count": 86,
   "metadata": {},
   "outputs": [
    {
     "data": {
      "text/plain": [
       "object     10\n",
       "int64       7\n",
       "float64     1\n",
       "dtype: int64"
      ]
     },
     "execution_count": 86,
     "metadata": {},
     "output_type": "execute_result"
    }
   ],
   "source": [
    "data_train.get_dtype_counts()"
   ]
  },
  {
   "cell_type": "code",
   "execution_count": 87,
   "metadata": {},
   "outputs": [
    {
     "data": {
      "text/html": [
       "<div>\n",
       "<style scoped>\n",
       "    .dataframe tbody tr th:only-of-type {\n",
       "        vertical-align: middle;\n",
       "    }\n",
       "\n",
       "    .dataframe tbody tr th {\n",
       "        vertical-align: top;\n",
       "    }\n",
       "\n",
       "    .dataframe thead th {\n",
       "        text-align: right;\n",
       "    }\n",
       "</style>\n",
       "<table border=\"1\" class=\"dataframe\">\n",
       "  <thead>\n",
       "    <tr style=\"text-align: right;\">\n",
       "      <th></th>\n",
       "      <th>Trainings_Attended</th>\n",
       "      <th>Year_of_birth</th>\n",
       "      <th>Last_performance_score</th>\n",
       "      <th>Year_of_recruitment</th>\n",
       "      <th>Targets_met</th>\n",
       "      <th>Previous_Award</th>\n",
       "      <th>Training_score_average</th>\n",
       "    </tr>\n",
       "  </thead>\n",
       "  <tbody>\n",
       "    <tr>\n",
       "      <th>count</th>\n",
       "      <td>16496.000000</td>\n",
       "      <td>16496.000000</td>\n",
       "      <td>16496.000000</td>\n",
       "      <td>16496.000000</td>\n",
       "      <td>16496.000000</td>\n",
       "      <td>16496.000000</td>\n",
       "      <td>16496.000000</td>\n",
       "    </tr>\n",
       "    <tr>\n",
       "      <th>mean</th>\n",
       "      <td>2.251455</td>\n",
       "      <td>1986.161130</td>\n",
       "      <td>7.692016</td>\n",
       "      <td>2013.122393</td>\n",
       "      <td>0.349600</td>\n",
       "      <td>0.023218</td>\n",
       "      <td>55.433863</td>\n",
       "    </tr>\n",
       "    <tr>\n",
       "      <th>std</th>\n",
       "      <td>0.608865</td>\n",
       "      <td>7.708188</td>\n",
       "      <td>3.734303</td>\n",
       "      <td>4.273649</td>\n",
       "      <td>0.476858</td>\n",
       "      <td>0.150599</td>\n",
       "      <td>13.392306</td>\n",
       "    </tr>\n",
       "    <tr>\n",
       "      <th>min</th>\n",
       "      <td>2.000000</td>\n",
       "      <td>1958.000000</td>\n",
       "      <td>0.000000</td>\n",
       "      <td>1986.000000</td>\n",
       "      <td>0.000000</td>\n",
       "      <td>0.000000</td>\n",
       "      <td>31.000000</td>\n",
       "    </tr>\n",
       "    <tr>\n",
       "      <th>25%</th>\n",
       "      <td>2.000000</td>\n",
       "      <td>1982.000000</td>\n",
       "      <td>5.000000</td>\n",
       "      <td>2011.000000</td>\n",
       "      <td>0.000000</td>\n",
       "      <td>0.000000</td>\n",
       "      <td>43.000000</td>\n",
       "    </tr>\n",
       "    <tr>\n",
       "      <th>50%</th>\n",
       "      <td>2.000000</td>\n",
       "      <td>1988.000000</td>\n",
       "      <td>7.500000</td>\n",
       "      <td>2014.000000</td>\n",
       "      <td>0.000000</td>\n",
       "      <td>0.000000</td>\n",
       "      <td>52.000000</td>\n",
       "    </tr>\n",
       "    <tr>\n",
       "      <th>75%</th>\n",
       "      <td>2.000000</td>\n",
       "      <td>1992.000000</td>\n",
       "      <td>10.000000</td>\n",
       "      <td>2016.000000</td>\n",
       "      <td>1.000000</td>\n",
       "      <td>0.000000</td>\n",
       "      <td>68.000000</td>\n",
       "    </tr>\n",
       "    <tr>\n",
       "      <th>max</th>\n",
       "      <td>11.000000</td>\n",
       "      <td>2001.000000</td>\n",
       "      <td>12.500000</td>\n",
       "      <td>2018.000000</td>\n",
       "      <td>1.000000</td>\n",
       "      <td>1.000000</td>\n",
       "      <td>91.000000</td>\n",
       "    </tr>\n",
       "  </tbody>\n",
       "</table>\n",
       "</div>"
      ],
      "text/plain": [
       "       Trainings_Attended  Year_of_birth  Last_performance_score  \\\n",
       "count        16496.000000   16496.000000            16496.000000   \n",
       "mean             2.251455    1986.161130                7.692016   \n",
       "std              0.608865       7.708188                3.734303   \n",
       "min              2.000000    1958.000000                0.000000   \n",
       "25%              2.000000    1982.000000                5.000000   \n",
       "50%              2.000000    1988.000000                7.500000   \n",
       "75%              2.000000    1992.000000               10.000000   \n",
       "max             11.000000    2001.000000               12.500000   \n",
       "\n",
       "       Year_of_recruitment   Targets_met  Previous_Award  \\\n",
       "count         16496.000000  16496.000000    16496.000000   \n",
       "mean           2013.122393      0.349600        0.023218   \n",
       "std               4.273649      0.476858        0.150599   \n",
       "min            1986.000000      0.000000        0.000000   \n",
       "25%            2011.000000      0.000000        0.000000   \n",
       "50%            2014.000000      0.000000        0.000000   \n",
       "75%            2016.000000      1.000000        0.000000   \n",
       "max            2018.000000      1.000000        1.000000   \n",
       "\n",
       "       Training_score_average  \n",
       "count            16496.000000  \n",
       "mean                55.433863  \n",
       "std                 13.392306  \n",
       "min                 31.000000  \n",
       "25%                 43.000000  \n",
       "50%                 52.000000  \n",
       "75%                 68.000000  \n",
       "max                 91.000000  "
      ]
     },
     "execution_count": 87,
     "metadata": {},
     "output_type": "execute_result"
    }
   ],
   "source": [
    "data_train.describe()\n",
    "data_test.describe()"
   ]
  },
  {
   "cell_type": "code",
   "execution_count": 88,
   "metadata": {},
   "outputs": [
    {
     "data": {
      "text/plain": [
       "['Trainings_Attended',\n",
       " 'Year_of_birth',\n",
       " 'Last_performance_score',\n",
       " 'Year_of_recruitment',\n",
       " 'Targets_met',\n",
       " 'Previous_Award',\n",
       " 'Training_score_average']"
      ]
     },
     "execution_count": 88,
     "metadata": {},
     "output_type": "execute_result"
    }
   ],
   "source": [
    "num_cols = data_train.select_dtypes(exclude=['object']).columns\n",
    "num_cols = list(num_cols)\n",
    "num_cols\n",
    "\n",
    "num_cols = data_test.select_dtypes(exclude=['object']).columns\n",
    "num_cols = list(num_cols)\n",
    "num_cols"
   ]
  },
  {
   "cell_type": "code",
   "execution_count": 89,
   "metadata": {},
   "outputs": [
    {
     "data": {
      "text/plain": [
       "0    37425\n",
       "1      887\n",
       "Name: Previous_Award, dtype: int64"
      ]
     },
     "execution_count": 89,
     "metadata": {},
     "output_type": "execute_result"
    }
   ],
   "source": [
    "data_train['Previous_Award'].value_counts()"
   ]
  },
  {
   "cell_type": "code",
   "execution_count": 90,
   "metadata": {},
   "outputs": [
    {
     "data": {
      "image/png": "[encoded data removed]",
      "text/plain": [
       "<Figure size 432x288 with 1 Axes>"
      ]
     },
     "metadata": {
      "needs_background": "light"
     },
     "output_type": "display_data"
    },
    {
     "data": {
      "image/png": "[encoded data removed]",
      "text/plain": [
       "<Figure size 432x288 with 1 Axes>"
      ]
     },
     "metadata": {
      "needs_background": "light"
     },
     "output_type": "display_data"
    },
    {
     "data": {
      "image/png": "[encoded data removed]",
      "text/plain": [
       "<Figure size 432x288 with 1 Axes>"
      ]
     },
     "metadata": {
      "needs_background": "light"
     },
     "output_type": "display_data"
    },
    {
     "data": {
      "image/png": "[encoded data removed]",
      "text/plain": [
       "<Figure size 432x288 with 1 Axes>"
      ]
     },
     "metadata": {
      "needs_background": "light"
     },
     "output_type": "display_data"
    },
    {
     "data": {
      "image/png": "[encoded data removed]",
      "text/plain": [
       "<Figure size 432x288 with 1 Axes>"
      ]
     },
     "metadata": {
      "needs_background": "light"
     },
     "output_type": "display_data"
    },
    {
     "data": {
      "image/png": "[encoded data removed]",
      "text/plain": [
       "<Figure size 432x288 with 1 Axes>"
      ]
     },
     "metadata": {
      "needs_background": "light"
     },
     "output_type": "display_data"
    },
    {
     "data": {
      "image/png": "[encoded data removed]",
      "text/plain": [
       "<Figure size 432x288 with 1 Axes>"
      ]
     },
     "metadata": {
      "needs_background": "light"
     },
     "output_type": "display_data"
    },
    {
     "data": {
      "image/png": "[encoded data removed]",
      "text/plain": [
       "<Figure size 432x288 with 1 Axes>"
      ]
     },
     "metadata": {
      "needs_background": "light"
     },
     "output_type": "display_data"
    },
    {
     "data": {
      "image/png": "[encoded data removed]",
      "text/plain": [
       "<Figure size 432x288 with 1 Axes>"
      ]
     },
     "metadata": {
      "needs_background": "light"
     },
     "output_type": "display_data"
    },
    {
     "data": {
      "image/png": "[encoded data removed]",
      "text/plain": [
       "<Figure size 432x288 with 1 Axes>"
      ]
     },
     "metadata": {
      "needs_background": "light"
     },
     "output_type": "display_data"
    },
    {
     "data": {
      "image/png": "[encoded data removed]",
      "text/plain": [
       "<Figure size 432x288 with 1 Axes>"
      ]
     },
     "metadata": {
      "needs_background": "light"
     },
     "output_type": "display_data"
    },
    {
     "data": {
      "image/png": "[encoded data removed]",
      "text/plain": [
       "<Figure size 432x288 with 1 Axes>"
      ]
     },
     "metadata": {
      "needs_background": "light"
     },
     "output_type": "display_data"
    },
    {
     "data": {
      "image/png": "[encoded data removed]",
      "text/plain": [
       "<Figure size 432x288 with 1 Axes>"
      ]
     },
     "metadata": {
      "needs_background": "light"
     },
     "output_type": "display_data"
    },
    {
     "data": {
      "image/png": "[encoded data removed]",
      "text/plain": [
       "<Figure size 432x288 with 1 Axes>"
      ]
     },
     "metadata": {
      "needs_background": "light"
     },
     "output_type": "display_data"
    }
   ],
   "source": [
    "# find no. of pages outliers\n",
    "for num in num_cols:\n",
    "    fig = plt.figure()\n",
    "    axis = fig.gca()\n",
    "    sns.boxplot(data_train[num], ax=axis)\n",
    "    plt.xticks(rotation=90)\n",
    "for num in num_cols:\n",
    "    fig = plt.figure()\n",
    "    axis = fig.gca()\n",
    "    sns.boxplot(data_test[num], ax=axis)\n",
    "    plt.xticks(rotation=90)"
   ]
  },
  {
   "cell_type": "code",
   "execution_count": 91,
   "metadata": {},
   "outputs": [
    {
     "data": {
      "text/plain": [
       "0    35071\n",
       "1     3241\n",
       "Name: Promoted_or_Not, dtype: int64"
      ]
     },
     "execution_count": 91,
     "metadata": {},
     "output_type": "execute_result"
    }
   ],
   "source": [
    "data_train['Promoted_or_Not'].value_counts()"
   ]
  },
  {
   "cell_type": "code",
   "execution_count": 92,
   "metadata": {},
   "outputs": [
    {
     "data": {
      "text/plain": [
       "2     30981\n",
       "3      5631\n",
       "4      1244\n",
       "5       316\n",
       "6        93\n",
       "7        28\n",
       "8         6\n",
       "10        5\n",
       "11        4\n",
       "9         4\n",
       "Name: Trainings_Attended, dtype: int64"
      ]
     },
     "execution_count": 92,
     "metadata": {},
     "output_type": "execute_result"
    }
   ],
   "source": [
    "data_train['Trainings_Attended'].value_counts()"
   ]
  },
  {
   "cell_type": "code",
   "execution_count": 93,
   "metadata": {},
   "outputs": [],
   "source": [
    "# remove outliers\n",
    "data_train = data_train.drop(data_train.index[data_train['Year_of_birth'] <= 1972])\n",
    "data_train = data_train.drop(data_train.index[data_train['Year_of_recruitment'] < 2006])\n",
    "data_train = data_train.drop(data_train.index[data_train['Trainings_Attended'] > 2])\n",
    "data_train = data_train.drop(data_train.index[data_train['Previous_Award'] > 0])\n",
    "\n",
    "\n",
    "# remove outliers\n",
    "data_test = data_test.drop(data_test.index[data_test['Year_of_birth'] <= 1972])\n",
    "data_test = data_test.drop(data_test.index[data_test['Year_of_recruitment'] < 2006])\n",
    "data_test = data_test.drop(data_test.index[data_test['Trainings_Attended'] > 2])\n",
    "data_test = data_test.drop(data_test.index[data_test['Previous_Award'] > 0])\n",
    "\n",
    "\n"
   ]
  },
  {
   "cell_type": "code",
   "execution_count": 94,
   "metadata": {},
   "outputs": [
    {
     "data": {
      "image/png": "[encoded data removed]",
      "text/plain": [
       "<Figure size 432x288 with 1 Axes>"
      ]
     },
     "metadata": {
      "needs_background": "light"
     },
     "output_type": "display_data"
    },
    {
     "data": {
      "image/png": "[encoded data removed]",
      "text/plain": [
       "<Figure size 432x288 with 1 Axes>"
      ]
     },
     "metadata": {
      "needs_background": "light"
     },
     "output_type": "display_data"
    },
    {
     "data": {
      "image/png": "[encoded data removed]",
      "text/plain": [
       "<Figure size 432x288 with 1 Axes>"
      ]
     },
     "metadata": {
      "needs_background": "light"
     },
     "output_type": "display_data"
    },
    {
     "data": {
      "image/png": "[encoded data removed]",
      "text/plain": [
       "<Figure size 432x288 with 1 Axes>"
      ]
     },
     "metadata": {
      "needs_background": "light"
     },
     "output_type": "display_data"
    },
    {
     "data": {
      "image/png": "[encoded data removed]",
      "text/plain": [
       "<Figure size 432x288 with 1 Axes>"
      ]
     },
     "metadata": {
      "needs_background": "light"
     },
     "output_type": "display_data"
    },
    {
     "data": {
      "image/png": "[encoded data removed]",
      "text/plain": [
       "<Figure size 432x288 with 1 Axes>"
      ]
     },
     "metadata": {
      "needs_background": "light"
     },
     "output_type": "display_data"
    },
    {
     "data": {
      "image/png": "[encoded data removed]",
      "text/plain": [
       "<Figure size 432x288 with 1 Axes>"
      ]
     },
     "metadata": {
      "needs_background": "light"
     },
     "output_type": "display_data"
    }
   ],
   "source": [
    "for num in num_cols:\n",
    "    fig = plt.figure()\n",
    "    axis = fig.gca()\n",
    "    sns.boxplot(data_train[num], ax=axis)\n",
    "    plt.xticks(rotation=90)"
   ]
  },
  {
   "cell_type": "code",
   "execution_count": 95,
   "metadata": {},
   "outputs": [
    {
     "name": "stdout",
     "output_type": "stream",
     "text": [
      "Number of people  having  First degree and HND\n",
      "18298\n",
      "Number of people  having MSc, MBA and PhD\n",
      "6848\n",
      "Number of Non-University Education\n",
      "466\n",
      "Number of people  having  First degree and HND\n",
      "7937\n",
      "Number of people having MSc, MBA and PhD\n",
      "2901\n",
      "Number of Non-University Education\n",
      "169\n"
     ]
    }
   ],
   "source": [
    "print(\"Number of people  having  First degree and HND\")\n",
    "S = data_train[data_train[\"Qualification\"] == \"First Degree or HND\"].shape[0]\n",
    "print(S)\n",
    "\n",
    "print(\"Number of people  having MSc, MBA and PhD\")\n",
    "C = data_train[data_train[\"Qualification\"] == \"MSc, MBA and PhD\"].shape[0]\n",
    "print(C )\n",
    "\n",
    "print(\"Number of Non-University Education\")\n",
    "Q = data_train[data_train[\"Qualification\"] == \"Non-University Education\"].shape[0]\n",
    "print(Q)\n",
    "\n",
    "# S has the highest, now lets fill it with S\n",
    "data_train['Qualification'] = data_train['Qualification'].fillna(\"First Degree or HND\")\n",
    "\n",
    "print(\"Number of people  having  First degree and HND\")\n",
    "S = data_test[data_test[\"Qualification\"] == \"First Degree or HND\"].shape[0]\n",
    "print(S)\n",
    "\n",
    "print(\"Number of people having MSc, MBA and PhD\")\n",
    "C = data_test[data_test[\"Qualification\"] == \"MSc, MBA and PhD\"].shape[0]\n",
    "print(C )\n",
    "\n",
    "print(\"Number of Non-University Education\")\n",
    "Q = data_test[data_test[\"Qualification\"] == \"Non-University Education\"].shape[0]\n",
    "print(Q)\n",
    "\n",
    "# S has the highest, now lets fill it with S\n",
    "data_test['Qualification'] = data_test['Qualification'].fillna(\"First Degree or HND\")"
   ]
  },
  {
   "cell_type": "code",
   "execution_count": 96,
   "metadata": {},
   "outputs": [],
   "source": [
    "# S has the highest, now lets fill it with S\n",
    "data_train['Qualification'] = data_train['Qualification'].fillna(\"S\")"
   ]
  },
  {
   "cell_type": "code",
   "execution_count": 97,
   "metadata": {},
   "outputs": [
    {
     "data": {
      "text/plain": [
       "Division                               0\n",
       "Qualification                          0\n",
       "Gender                                 0\n",
       "Channel_of_Recruitment                 0\n",
       "Trainings_Attended                     0\n",
       "Year_of_birth                          0\n",
       "Last_performance_score                 0\n",
       "Year_of_recruitment                    0\n",
       "Targets_met                            0\n",
       "Previous_Award                         0\n",
       "Training_score_average                 0\n",
       "State_Of_Origin                        0\n",
       "Foreign_schooled                       0\n",
       "Marital_Status                         0\n",
       "Past_Disciplinary_Action               0\n",
       "Previous_IntraDepartmental_Movement    0\n",
       "No_of_previous_employers               0\n",
       "Promoted_or_Not                        0\n",
       "dtype: int64"
      ]
     },
     "execution_count": 97,
     "metadata": {},
     "output_type": "execute_result"
    }
   ],
   "source": [
    "data_train.isnull().sum()"
   ]
  },
  {
   "cell_type": "code",
   "execution_count": 98,
   "metadata": {},
   "outputs": [
    {
     "data": {
      "image/png": "[encoded data removed]",
      "text/plain": [
       "<Figure size 360x216 with 1 Axes>"
      ]
     },
     "metadata": {
      "needs_background": "light"
     },
     "output_type": "display_data"
    },
    {
     "data": {
      "image/png": "[encoded data removed]",
      "text/plain": [
       "<Figure size 360x216 with 1 Axes>"
      ]
     },
     "metadata": {
      "needs_background": "light"
     },
     "output_type": "display_data"
    },
    {
     "data": {
      "image/png": "[encoded data removed]",
      "text/plain": [
       "<Figure size 360x216 with 1 Axes>"
      ]
     },
     "metadata": {
      "needs_background": "light"
     },
     "output_type": "display_data"
    },
    {
     "data": {
      "image/png": "[encoded data removed]",
      "text/plain": [
       "<Figure size 360x216 with 1 Axes>"
      ]
     },
     "metadata": {
      "needs_background": "light"
     },
     "output_type": "display_data"
    },
    {
     "data": {
      "image/png": "[encoded data removed]",
      "text/plain": [
       "<Figure size 360x216 with 1 Axes>"
      ]
     },
     "metadata": {
      "needs_background": "light"
     },
     "output_type": "display_data"
    },
    {
     "data": {
      "image/png": "[encoded data removed]",
      "text/plain": [
       "<Figure size 360x216 with 1 Axes>"
      ]
     },
     "metadata": {
      "needs_background": "light"
     },
     "output_type": "display_data"
    },
    {
     "data": {
      "image/png": "[encoded data removed]",
      "text/plain": [
       "<Figure size 360x216 with 1 Axes>"
      ]
     },
     "metadata": {
      "needs_background": "light"
     },
     "output_type": "display_data"
    }
   ],
   "source": [
    "for num in num_cols:\n",
    "    fig = plt.figure(figsize=(5,3))\n",
    "    ax = fig.gca()\n",
    "    sns.kdeplot(data_train[num], ax=ax,shade=True)"
   ]
  },
  {
   "cell_type": "code",
   "execution_count": 99,
   "metadata": {},
   "outputs": [
    {
     "data": {
      "text/plain": [
       "(11605, 17)"
      ]
     },
     "execution_count": 99,
     "metadata": {},
     "output_type": "execute_result"
    }
   ],
   "source": [
    "data_test.shape"
   ]
  },
  {
   "cell_type": "code",
   "execution_count": 100,
   "metadata": {},
   "outputs": [],
   "source": [
    "cat_col = [n for n in data_train.columns if data_train[n].dtypes == 'object']\n",
    "\n",
    "cat_to_encode = []\n",
    "for cat in cat_col:\n",
    "    temp = len(data_train[cat].unique())\n",
    "    if temp > 4 :\n",
    "        cat_to_encode.append(cat)\n",
    "        \n",
    "cat_col = [n for n in data_test.columns if data_test[n].dtypes == 'object']\n",
    "\n",
    "cat_to_encode = []\n",
    "for cat in cat_col:\n",
    "    temp = len(data_test[cat].unique())\n",
    "    if temp > 4 :\n",
    "        cat_to_encode.append(cat)"
   ]
  },
  {
   "cell_type": "code",
   "execution_count": 101,
   "metadata": {},
   "outputs": [
    {
     "data": {
      "text/plain": [
       "['Division',\n",
       " 'Qualification',\n",
       " 'Gender',\n",
       " 'Channel_of_Recruitment',\n",
       " 'State_Of_Origin',\n",
       " 'Foreign_schooled',\n",
       " 'Marital_Status',\n",
       " 'Past_Disciplinary_Action',\n",
       " 'Previous_IntraDepartmental_Movement',\n",
       " 'No_of_previous_employers']"
      ]
     },
     "execution_count": 101,
     "metadata": {},
     "output_type": "execute_result"
    }
   ],
   "source": [
    "cat_col\n",
    "cat_col"
   ]
  },
  {
   "cell_type": "code",
   "execution_count": 102,
   "metadata": {},
   "outputs": [],
   "source": [
    "from sklearn.preprocessing import LabelEncoder"
   ]
  },
  {
   "cell_type": "code",
   "execution_count": 103,
   "metadata": {},
   "outputs": [],
   "source": [
    "all_data = pd.concat([data_test, data_train])"
   ]
  },
  {
   "cell_type": "code",
   "execution_count": 104,
   "metadata": {},
   "outputs": [],
   "source": [
    "lb = LabelEncoder()\n",
    "\n",
    "for col in cat_col:\n",
    "    lb.fit(all_data[col])\n",
    "    all_data[col] = lb.transform(all_data[col])"
   ]
  },
  {
   "cell_type": "code",
   "execution_count": 105,
   "metadata": {},
   "outputs": [],
   "source": [
    "# remove outliers\n",
    "#all_data = all_data.drop(all_data.index[all_data['Marital_Status'] > 1.0])\n",
    "#all_data = all_data.drop(all_data.index[all_data['No_of_previous_employers'] > 2])\n",
    "#all_data = all_data.drop(all_data.index[all_data['Year_of_recruitment'] < 2008])\n",
    "#all_data = all_data.drop(all_data.index[all_data['Year_of_birth'] <= 1972])\n",
    "#all_data = all_data.drop(all_data.index[all_data['Trainings_Attended'] > 2])"
   ]
  },
  {
   "cell_type": "code",
   "execution_count": 106,
   "metadata": {},
   "outputs": [
    {
     "data": {
      "text/html": [
       "<div>\n",
       "<style scoped>\n",
       "    .dataframe tbody tr th:only-of-type {\n",
       "        vertical-align: middle;\n",
       "    }\n",
       "\n",
       "    .dataframe tbody tr th {\n",
       "        vertical-align: top;\n",
       "    }\n",
       "\n",
       "    .dataframe thead th {\n",
       "        text-align: right;\n",
       "    }\n",
       "</style>\n",
       "<table border=\"1\" class=\"dataframe\">\n",
       "  <thead>\n",
       "    <tr style=\"text-align: right;\">\n",
       "      <th></th>\n",
       "      <th>Channel_of_Recruitment</th>\n",
       "      <th>Division</th>\n",
       "      <th>Foreign_schooled</th>\n",
       "      <th>Gender</th>\n",
       "      <th>Last_performance_score</th>\n",
       "      <th>Marital_Status</th>\n",
       "      <th>No_of_previous_employers</th>\n",
       "      <th>Past_Disciplinary_Action</th>\n",
       "      <th>Previous_Award</th>\n",
       "      <th>Previous_IntraDepartmental_Movement</th>\n",
       "      <th>Promoted_or_Not</th>\n",
       "      <th>Qualification</th>\n",
       "      <th>State_Of_Origin</th>\n",
       "      <th>Targets_met</th>\n",
       "      <th>Training_score_average</th>\n",
       "      <th>Trainings_Attended</th>\n",
       "      <th>Year_of_birth</th>\n",
       "      <th>Year_of_recruitment</th>\n",
       "    </tr>\n",
       "  </thead>\n",
       "  <tbody>\n",
       "    <tr>\n",
       "      <th>0</th>\n",
       "      <td>0</td>\n",
       "      <td>3</td>\n",
       "      <td>1</td>\n",
       "      <td>1</td>\n",
       "      <td>7.5</td>\n",
       "      <td>0</td>\n",
       "      <td>1</td>\n",
       "      <td>0</td>\n",
       "      <td>0</td>\n",
       "      <td>0</td>\n",
       "      <td>NaN</td>\n",
       "      <td>0</td>\n",
       "      <td>14</td>\n",
       "      <td>0</td>\n",
       "      <td>65</td>\n",
       "      <td>2</td>\n",
       "      <td>1976</td>\n",
       "      <td>2017</td>\n",
       "    </tr>\n",
       "    <tr>\n",
       "      <th>1</th>\n",
       "      <td>1</td>\n",
       "      <td>3</td>\n",
       "      <td>1</td>\n",
       "      <td>1</td>\n",
       "      <td>0.0</td>\n",
       "      <td>0</td>\n",
       "      <td>1</td>\n",
       "      <td>0</td>\n",
       "      <td>0</td>\n",
       "      <td>0</td>\n",
       "      <td>NaN</td>\n",
       "      <td>0</td>\n",
       "      <td>27</td>\n",
       "      <td>0</td>\n",
       "      <td>69</td>\n",
       "      <td>2</td>\n",
       "      <td>1991</td>\n",
       "      <td>2018</td>\n",
       "    </tr>\n",
       "    <tr>\n",
       "      <th>2</th>\n",
       "      <td>1</td>\n",
       "      <td>7</td>\n",
       "      <td>1</td>\n",
       "      <td>1</td>\n",
       "      <td>7.5</td>\n",
       "      <td>0</td>\n",
       "      <td>1</td>\n",
       "      <td>0</td>\n",
       "      <td>0</td>\n",
       "      <td>0</td>\n",
       "      <td>NaN</td>\n",
       "      <td>1</td>\n",
       "      <td>19</td>\n",
       "      <td>0</td>\n",
       "      <td>76</td>\n",
       "      <td>2</td>\n",
       "      <td>1984</td>\n",
       "      <td>2012</td>\n",
       "    </tr>\n",
       "    <tr>\n",
       "      <th>3</th>\n",
       "      <td>0</td>\n",
       "      <td>2</td>\n",
       "      <td>0</td>\n",
       "      <td>1</td>\n",
       "      <td>2.5</td>\n",
       "      <td>2</td>\n",
       "      <td>1</td>\n",
       "      <td>0</td>\n",
       "      <td>0</td>\n",
       "      <td>0</td>\n",
       "      <td>NaN</td>\n",
       "      <td>0</td>\n",
       "      <td>32</td>\n",
       "      <td>0</td>\n",
       "      <td>52</td>\n",
       "      <td>2</td>\n",
       "      <td>1984</td>\n",
       "      <td>2009</td>\n",
       "    </tr>\n",
       "    <tr>\n",
       "      <th>4</th>\n",
       "      <td>0</td>\n",
       "      <td>3</td>\n",
       "      <td>1</td>\n",
       "      <td>1</td>\n",
       "      <td>7.5</td>\n",
       "      <td>0</td>\n",
       "      <td>0</td>\n",
       "      <td>0</td>\n",
       "      <td>0</td>\n",
       "      <td>0</td>\n",
       "      <td>NaN</td>\n",
       "      <td>0</td>\n",
       "      <td>14</td>\n",
       "      <td>1</td>\n",
       "      <td>69</td>\n",
       "      <td>2</td>\n",
       "      <td>1983</td>\n",
       "      <td>2014</td>\n",
       "    </tr>\n",
       "  </tbody>\n",
       "</table>\n",
       "</div>"
      ],
      "text/plain": [
       "   Channel_of_Recruitment  Division  Foreign_schooled  Gender  \\\n",
       "0                       0         3                 1       1   \n",
       "1                       1         3                 1       1   \n",
       "2                       1         7                 1       1   \n",
       "3                       0         2                 0       1   \n",
       "4                       0         3                 1       1   \n",
       "\n",
       "   Last_performance_score  Marital_Status  No_of_previous_employers  \\\n",
       "0                     7.5               0                         1   \n",
       "1                     0.0               0                         1   \n",
       "2                     7.5               0                         1   \n",
       "3                     2.5               2                         1   \n",
       "4                     7.5               0                         0   \n",
       "\n",
       "   Past_Disciplinary_Action  Previous_Award  \\\n",
       "0                         0               0   \n",
       "1                         0               0   \n",
       "2                         0               0   \n",
       "3                         0               0   \n",
       "4                         0               0   \n",
       "\n",
       "   Previous_IntraDepartmental_Movement  Promoted_or_Not  Qualification  \\\n",
       "0                                    0              NaN              0   \n",
       "1                                    0              NaN              0   \n",
       "2                                    0              NaN              1   \n",
       "3                                    0              NaN              0   \n",
       "4                                    0              NaN              0   \n",
       "\n",
       "   State_Of_Origin  Targets_met  Training_score_average  Trainings_Attended  \\\n",
       "0               14            0                      65                   2   \n",
       "1               27            0                      69                   2   \n",
       "2               19            0                      76                   2   \n",
       "3               32            0                      52                   2   \n",
       "4               14            1                      69                   2   \n",
       "\n",
       "   Year_of_birth  Year_of_recruitment  \n",
       "0           1976                 2017  \n",
       "1           1991                 2018  \n",
       "2           1984                 2012  \n",
       "3           1984                 2009  \n",
       "4           1983                 2014  "
      ]
     },
     "execution_count": 106,
     "metadata": {},
     "output_type": "execute_result"
    }
   ],
   "source": [
    "all_data.head()"
   ]
  },
  {
   "cell_type": "code",
   "execution_count": 107,
   "metadata": {},
   "outputs": [],
   "source": [
    "all_data = pd.get_dummies(all_data, columns = ['Qualification','Gender','Channel_of_Recruitment',\n",
    "                                              'Foreign_schooled','Marital_Status','Past_Disciplinary_Action',\n",
    "                                              'Previous_IntraDepartmental_Movement'])"
   ]
  },
  {
   "cell_type": "code",
   "execution_count": 108,
   "metadata": {},
   "outputs": [
    {
     "data": {
      "text/html": [
       "<div>\n",
       "<style scoped>\n",
       "    .dataframe tbody tr th:only-of-type {\n",
       "        vertical-align: middle;\n",
       "    }\n",
       "\n",
       "    .dataframe tbody tr th {\n",
       "        vertical-align: top;\n",
       "    }\n",
       "\n",
       "    .dataframe thead th {\n",
       "        text-align: right;\n",
       "    }\n",
       "</style>\n",
       "<table border=\"1\" class=\"dataframe\">\n",
       "  <thead>\n",
       "    <tr style=\"text-align: right;\">\n",
       "      <th></th>\n",
       "      <th>Division</th>\n",
       "      <th>Last_performance_score</th>\n",
       "      <th>No_of_previous_employers</th>\n",
       "      <th>Previous_Award</th>\n",
       "      <th>Promoted_or_Not</th>\n",
       "      <th>State_Of_Origin</th>\n",
       "      <th>Targets_met</th>\n",
       "      <th>Training_score_average</th>\n",
       "      <th>Trainings_Attended</th>\n",
       "      <th>Year_of_birth</th>\n",
       "      <th>Year_of_recruitment</th>\n",
       "      <th>Qualification_0</th>\n",
       "      <th>Qualification_1</th>\n",
       "      <th>Qualification_2</th>\n",
       "      <th>Gender_0</th>\n",
       "      <th>Gender_1</th>\n",
       "      <th>Channel_of_Recruitment_0</th>\n",
       "      <th>Channel_of_Recruitment_1</th>\n",
       "      <th>Channel_of_Recruitment_2</th>\n",
       "      <th>Foreign_schooled_0</th>\n",
       "      <th>Foreign_schooled_1</th>\n",
       "      <th>Marital_Status_0</th>\n",
       "      <th>Marital_Status_1</th>\n",
       "      <th>Marital_Status_2</th>\n",
       "      <th>Past_Disciplinary_Action_0</th>\n",
       "      <th>Past_Disciplinary_Action_1</th>\n",
       "      <th>Previous_IntraDepartmental_Movement_0</th>\n",
       "      <th>Previous_IntraDepartmental_Movement_1</th>\n",
       "    </tr>\n",
       "  </thead>\n",
       "  <tbody>\n",
       "    <tr>\n",
       "      <th>0</th>\n",
       "      <td>3</td>\n",
       "      <td>7.5</td>\n",
       "      <td>1</td>\n",
       "      <td>0</td>\n",
       "      <td>NaN</td>\n",
       "      <td>14</td>\n",
       "      <td>0</td>\n",
       "      <td>65</td>\n",
       "      <td>2</td>\n",
       "      <td>1976</td>\n",
       "      <td>2017</td>\n",
       "      <td>1</td>\n",
       "      <td>0</td>\n",
       "      <td>0</td>\n",
       "      <td>0</td>\n",
       "      <td>1</td>\n",
       "      <td>1</td>\n",
       "      <td>0</td>\n",
       "      <td>0</td>\n",
       "      <td>0</td>\n",
       "      <td>1</td>\n",
       "      <td>1</td>\n",
       "      <td>0</td>\n",
       "      <td>0</td>\n",
       "      <td>1</td>\n",
       "      <td>0</td>\n",
       "      <td>1</td>\n",
       "      <td>0</td>\n",
       "    </tr>\n",
       "    <tr>\n",
       "      <th>1</th>\n",
       "      <td>3</td>\n",
       "      <td>0.0</td>\n",
       "      <td>1</td>\n",
       "      <td>0</td>\n",
       "      <td>NaN</td>\n",
       "      <td>27</td>\n",
       "      <td>0</td>\n",
       "      <td>69</td>\n",
       "      <td>2</td>\n",
       "      <td>1991</td>\n",
       "      <td>2018</td>\n",
       "      <td>1</td>\n",
       "      <td>0</td>\n",
       "      <td>0</td>\n",
       "      <td>0</td>\n",
       "      <td>1</td>\n",
       "      <td>0</td>\n",
       "      <td>1</td>\n",
       "      <td>0</td>\n",
       "      <td>0</td>\n",
       "      <td>1</td>\n",
       "      <td>1</td>\n",
       "      <td>0</td>\n",
       "      <td>0</td>\n",
       "      <td>1</td>\n",
       "      <td>0</td>\n",
       "      <td>1</td>\n",
       "      <td>0</td>\n",
       "    </tr>\n",
       "    <tr>\n",
       "      <th>2</th>\n",
       "      <td>7</td>\n",
       "      <td>7.5</td>\n",
       "      <td>1</td>\n",
       "      <td>0</td>\n",
       "      <td>NaN</td>\n",
       "      <td>19</td>\n",
       "      <td>0</td>\n",
       "      <td>76</td>\n",
       "      <td>2</td>\n",
       "      <td>1984</td>\n",
       "      <td>2012</td>\n",
       "      <td>0</td>\n",
       "      <td>1</td>\n",
       "      <td>0</td>\n",
       "      <td>0</td>\n",
       "      <td>1</td>\n",
       "      <td>0</td>\n",
       "      <td>1</td>\n",
       "      <td>0</td>\n",
       "      <td>0</td>\n",
       "      <td>1</td>\n",
       "      <td>1</td>\n",
       "      <td>0</td>\n",
       "      <td>0</td>\n",
       "      <td>1</td>\n",
       "      <td>0</td>\n",
       "      <td>1</td>\n",
       "      <td>0</td>\n",
       "    </tr>\n",
       "    <tr>\n",
       "      <th>3</th>\n",
       "      <td>2</td>\n",
       "      <td>2.5</td>\n",
       "      <td>1</td>\n",
       "      <td>0</td>\n",
       "      <td>NaN</td>\n",
       "      <td>32</td>\n",
       "      <td>0</td>\n",
       "      <td>52</td>\n",
       "      <td>2</td>\n",
       "      <td>1984</td>\n",
       "      <td>2009</td>\n",
       "      <td>1</td>\n",
       "      <td>0</td>\n",
       "      <td>0</td>\n",
       "      <td>0</td>\n",
       "      <td>1</td>\n",
       "      <td>1</td>\n",
       "      <td>0</td>\n",
       "      <td>0</td>\n",
       "      <td>1</td>\n",
       "      <td>0</td>\n",
       "      <td>0</td>\n",
       "      <td>0</td>\n",
       "      <td>1</td>\n",
       "      <td>1</td>\n",
       "      <td>0</td>\n",
       "      <td>1</td>\n",
       "      <td>0</td>\n",
       "    </tr>\n",
       "    <tr>\n",
       "      <th>4</th>\n",
       "      <td>3</td>\n",
       "      <td>7.5</td>\n",
       "      <td>0</td>\n",
       "      <td>0</td>\n",
       "      <td>NaN</td>\n",
       "      <td>14</td>\n",
       "      <td>1</td>\n",
       "      <td>69</td>\n",
       "      <td>2</td>\n",
       "      <td>1983</td>\n",
       "      <td>2014</td>\n",
       "      <td>1</td>\n",
       "      <td>0</td>\n",
       "      <td>0</td>\n",
       "      <td>0</td>\n",
       "      <td>1</td>\n",
       "      <td>1</td>\n",
       "      <td>0</td>\n",
       "      <td>0</td>\n",
       "      <td>0</td>\n",
       "      <td>1</td>\n",
       "      <td>1</td>\n",
       "      <td>0</td>\n",
       "      <td>0</td>\n",
       "      <td>1</td>\n",
       "      <td>0</td>\n",
       "      <td>1</td>\n",
       "      <td>0</td>\n",
       "    </tr>\n",
       "  </tbody>\n",
       "</table>\n",
       "</div>"
      ],
      "text/plain": [
       "   Division  Last_performance_score  No_of_previous_employers  Previous_Award  \\\n",
       "0         3                     7.5                         1               0   \n",
       "1         3                     0.0                         1               0   \n",
       "2         7                     7.5                         1               0   \n",
       "3         2                     2.5                         1               0   \n",
       "4         3                     7.5                         0               0   \n",
       "\n",
       "   Promoted_or_Not  State_Of_Origin  Targets_met  Training_score_average  \\\n",
       "0              NaN               14            0                      65   \n",
       "1              NaN               27            0                      69   \n",
       "2              NaN               19            0                      76   \n",
       "3              NaN               32            0                      52   \n",
       "4              NaN               14            1                      69   \n",
       "\n",
       "   Trainings_Attended  Year_of_birth  Year_of_recruitment  Qualification_0  \\\n",
       "0                   2           1976                 2017                1   \n",
       "1                   2           1991                 2018                1   \n",
       "2                   2           1984                 2012                0   \n",
       "3                   2           1984                 2009                1   \n",
       "4                   2           1983                 2014                1   \n",
       "\n",
       "   Qualification_1  Qualification_2  Gender_0  Gender_1  \\\n",
       "0                0                0         0         1   \n",
       "1                0                0         0         1   \n",
       "2                1                0         0         1   \n",
       "3                0                0         0         1   \n",
       "4                0                0         0         1   \n",
       "\n",
       "   Channel_of_Recruitment_0  Channel_of_Recruitment_1  \\\n",
       "0                         1                         0   \n",
       "1                         0                         1   \n",
       "2                         0                         1   \n",
       "3                         1                         0   \n",
       "4                         1                         0   \n",
       "\n",
       "   Channel_of_Recruitment_2  Foreign_schooled_0  Foreign_schooled_1  \\\n",
       "0                         0                   0                   1   \n",
       "1                         0                   0                   1   \n",
       "2                         0                   0                   1   \n",
       "3                         0                   1                   0   \n",
       "4                         0                   0                   1   \n",
       "\n",
       "   Marital_Status_0  Marital_Status_1  Marital_Status_2  \\\n",
       "0                 1                 0                 0   \n",
       "1                 1                 0                 0   \n",
       "2                 1                 0                 0   \n",
       "3                 0                 0                 1   \n",
       "4                 1                 0                 0   \n",
       "\n",
       "   Past_Disciplinary_Action_0  Past_Disciplinary_Action_1  \\\n",
       "0                           1                           0   \n",
       "1                           1                           0   \n",
       "2                           1                           0   \n",
       "3                           1                           0   \n",
       "4                           1                           0   \n",
       "\n",
       "   Previous_IntraDepartmental_Movement_0  \\\n",
       "0                                      1   \n",
       "1                                      1   \n",
       "2                                      1   \n",
       "3                                      1   \n",
       "4                                      1   \n",
       "\n",
       "   Previous_IntraDepartmental_Movement_1  \n",
       "0                                      0  \n",
       "1                                      0  \n",
       "2                                      0  \n",
       "3                                      0  \n",
       "4                                      0  "
      ]
     },
     "execution_count": 108,
     "metadata": {},
     "output_type": "execute_result"
    }
   ],
   "source": [
    "all_data.head()"
   ]
  },
  {
   "cell_type": "code",
   "execution_count": 109,
   "metadata": {},
   "outputs": [],
   "source": [
    "data_train = all_data[0:26900]\n",
    "data_train = all_data[26900:]\n"
   ]
  },
  {
   "cell_type": "code",
   "execution_count": 110,
   "metadata": {},
   "outputs": [
    {
     "data": {
      "text/plain": [
       "(16496, 17)"
      ]
     },
     "execution_count": 110,
     "metadata": {},
     "output_type": "execute_result"
    }
   ],
   "source": [
    "X.shape"
   ]
  },
  {
   "cell_type": "code",
   "execution_count": 111,
   "metadata": {},
   "outputs": [
    {
     "data": {
      "text/plain": [
       "(16496, 0)"
      ]
     },
     "execution_count": 111,
     "metadata": {},
     "output_type": "execute_result"
    }
   ],
   "source": [
    "y.shape"
   ]
  },
  {
   "cell_type": "code",
   "execution_count": 112,
   "metadata": {},
   "outputs": [],
   "source": [
    "X = data_test.loc[:, data_test.columns != 'Promoted_or_Not']\n",
    "y = data_test.loc[:, data_test.columns == 'Promoted_or_Not']"
   ]
  },
  {
   "cell_type": "code",
   "execution_count": 113,
   "metadata": {},
   "outputs": [
    {
     "ename": "KeyError",
     "evalue": "\"['Promoted_or_Not'] not found in axis\"",
     "output_type": "error",
     "traceback": [
      "\u001b[1;31m---------------------------------------------------------------------------\u001b[0m",
      "\u001b[1;31mKeyError\u001b[0m                                  Traceback (most recent call last)",
      "\u001b[1;32m<ipython-input-113-647918bb8a02>\u001b[0m in \u001b[0;36m<module>\u001b[1;34m\u001b[0m\n\u001b[1;32m----> 1\u001b[1;33m \u001b[0mdata_test\u001b[0m\u001b[1;33m.\u001b[0m\u001b[0mdrop\u001b[0m\u001b[1;33m(\u001b[0m\u001b[0mcolumns\u001b[0m\u001b[1;33m=\u001b[0m\u001b[1;34m'Promoted_or_Not'\u001b[0m\u001b[1;33m,\u001b[0m \u001b[0minplace\u001b[0m\u001b[1;33m=\u001b[0m\u001b[1;32mTrue\u001b[0m\u001b[1;33m)\u001b[0m\u001b[1;33m\u001b[0m\u001b[1;33m\u001b[0m\u001b[0m\n\u001b[0m",
      "\u001b[1;32m~\\Anaconda3\\lib\\site-packages\\pandas\\core\\frame.py\u001b[0m in \u001b[0;36mdrop\u001b[1;34m(self, labels, axis, index, columns, level, inplace, errors)\u001b[0m\n\u001b[0;32m   3695\u001b[0m                                            \u001b[0mindex\u001b[0m\u001b[1;33m=\u001b[0m\u001b[0mindex\u001b[0m\u001b[1;33m,\u001b[0m \u001b[0mcolumns\u001b[0m\u001b[1;33m=\u001b[0m\u001b[0mcolumns\u001b[0m\u001b[1;33m,\u001b[0m\u001b[1;33m\u001b[0m\u001b[1;33m\u001b[0m\u001b[0m\n\u001b[0;32m   3696\u001b[0m                                            \u001b[0mlevel\u001b[0m\u001b[1;33m=\u001b[0m\u001b[0mlevel\u001b[0m\u001b[1;33m,\u001b[0m \u001b[0minplace\u001b[0m\u001b[1;33m=\u001b[0m\u001b[0minplace\u001b[0m\u001b[1;33m,\u001b[0m\u001b[1;33m\u001b[0m\u001b[1;33m\u001b[0m\u001b[0m\n\u001b[1;32m-> 3697\u001b[1;33m                                            errors=errors)\n\u001b[0m\u001b[0;32m   3698\u001b[0m \u001b[1;33m\u001b[0m\u001b[0m\n\u001b[0;32m   3699\u001b[0m     @rewrite_axis_style_signature('mapper', [('copy', True),\n",
      "\u001b[1;32m~\\Anaconda3\\lib\\site-packages\\pandas\\core\\generic.py\u001b[0m in \u001b[0;36mdrop\u001b[1;34m(self, labels, axis, index, columns, level, inplace, errors)\u001b[0m\n\u001b[0;32m   3109\u001b[0m         \u001b[1;32mfor\u001b[0m \u001b[0maxis\u001b[0m\u001b[1;33m,\u001b[0m \u001b[0mlabels\u001b[0m \u001b[1;32min\u001b[0m \u001b[0maxes\u001b[0m\u001b[1;33m.\u001b[0m\u001b[0mitems\u001b[0m\u001b[1;33m(\u001b[0m\u001b[1;33m)\u001b[0m\u001b[1;33m:\u001b[0m\u001b[1;33m\u001b[0m\u001b[1;33m\u001b[0m\u001b[0m\n\u001b[0;32m   3110\u001b[0m             \u001b[1;32mif\u001b[0m \u001b[0mlabels\u001b[0m \u001b[1;32mis\u001b[0m \u001b[1;32mnot\u001b[0m \u001b[1;32mNone\u001b[0m\u001b[1;33m:\u001b[0m\u001b[1;33m\u001b[0m\u001b[1;33m\u001b[0m\u001b[0m\n\u001b[1;32m-> 3111\u001b[1;33m                 \u001b[0mobj\u001b[0m \u001b[1;33m=\u001b[0m \u001b[0mobj\u001b[0m\u001b[1;33m.\u001b[0m\u001b[0m_drop_axis\u001b[0m\u001b[1;33m(\u001b[0m\u001b[0mlabels\u001b[0m\u001b[1;33m,\u001b[0m \u001b[0maxis\u001b[0m\u001b[1;33m,\u001b[0m \u001b[0mlevel\u001b[0m\u001b[1;33m=\u001b[0m\u001b[0mlevel\u001b[0m\u001b[1;33m,\u001b[0m \u001b[0merrors\u001b[0m\u001b[1;33m=\u001b[0m\u001b[0merrors\u001b[0m\u001b[1;33m)\u001b[0m\u001b[1;33m\u001b[0m\u001b[1;33m\u001b[0m\u001b[0m\n\u001b[0m\u001b[0;32m   3112\u001b[0m \u001b[1;33m\u001b[0m\u001b[0m\n\u001b[0;32m   3113\u001b[0m         \u001b[1;32mif\u001b[0m \u001b[0minplace\u001b[0m\u001b[1;33m:\u001b[0m\u001b[1;33m\u001b[0m\u001b[1;33m\u001b[0m\u001b[0m\n",
      "\u001b[1;32m~\\Anaconda3\\lib\\site-packages\\pandas\\core\\generic.py\u001b[0m in \u001b[0;36m_drop_axis\u001b[1;34m(self, labels, axis, level, errors)\u001b[0m\n\u001b[0;32m   3141\u001b[0m                 \u001b[0mnew_axis\u001b[0m \u001b[1;33m=\u001b[0m \u001b[0maxis\u001b[0m\u001b[1;33m.\u001b[0m\u001b[0mdrop\u001b[0m\u001b[1;33m(\u001b[0m\u001b[0mlabels\u001b[0m\u001b[1;33m,\u001b[0m \u001b[0mlevel\u001b[0m\u001b[1;33m=\u001b[0m\u001b[0mlevel\u001b[0m\u001b[1;33m,\u001b[0m \u001b[0merrors\u001b[0m\u001b[1;33m=\u001b[0m\u001b[0merrors\u001b[0m\u001b[1;33m)\u001b[0m\u001b[1;33m\u001b[0m\u001b[1;33m\u001b[0m\u001b[0m\n\u001b[0;32m   3142\u001b[0m             \u001b[1;32melse\u001b[0m\u001b[1;33m:\u001b[0m\u001b[1;33m\u001b[0m\u001b[1;33m\u001b[0m\u001b[0m\n\u001b[1;32m-> 3143\u001b[1;33m                 \u001b[0mnew_axis\u001b[0m \u001b[1;33m=\u001b[0m \u001b[0maxis\u001b[0m\u001b[1;33m.\u001b[0m\u001b[0mdrop\u001b[0m\u001b[1;33m(\u001b[0m\u001b[0mlabels\u001b[0m\u001b[1;33m,\u001b[0m \u001b[0merrors\u001b[0m\u001b[1;33m=\u001b[0m\u001b[0merrors\u001b[0m\u001b[1;33m)\u001b[0m\u001b[1;33m\u001b[0m\u001b[1;33m\u001b[0m\u001b[0m\n\u001b[0m\u001b[0;32m   3144\u001b[0m             \u001b[0mresult\u001b[0m \u001b[1;33m=\u001b[0m \u001b[0mself\u001b[0m\u001b[1;33m.\u001b[0m\u001b[0mreindex\u001b[0m\u001b[1;33m(\u001b[0m\u001b[1;33m**\u001b[0m\u001b[1;33m{\u001b[0m\u001b[0maxis_name\u001b[0m\u001b[1;33m:\u001b[0m \u001b[0mnew_axis\u001b[0m\u001b[1;33m}\u001b[0m\u001b[1;33m)\u001b[0m\u001b[1;33m\u001b[0m\u001b[1;33m\u001b[0m\u001b[0m\n\u001b[0;32m   3145\u001b[0m \u001b[1;33m\u001b[0m\u001b[0m\n",
      "\u001b[1;32m~\\Anaconda3\\lib\\site-packages\\pandas\\core\\indexes\\base.py\u001b[0m in \u001b[0;36mdrop\u001b[1;34m(self, labels, errors)\u001b[0m\n\u001b[0;32m   4402\u001b[0m             \u001b[1;32mif\u001b[0m \u001b[0merrors\u001b[0m \u001b[1;33m!=\u001b[0m \u001b[1;34m'ignore'\u001b[0m\u001b[1;33m:\u001b[0m\u001b[1;33m\u001b[0m\u001b[1;33m\u001b[0m\u001b[0m\n\u001b[0;32m   4403\u001b[0m                 raise KeyError(\n\u001b[1;32m-> 4404\u001b[1;33m                     '{} not found in axis'.format(labels[mask]))\n\u001b[0m\u001b[0;32m   4405\u001b[0m             \u001b[0mindexer\u001b[0m \u001b[1;33m=\u001b[0m \u001b[0mindexer\u001b[0m\u001b[1;33m[\u001b[0m\u001b[1;33m~\u001b[0m\u001b[0mmask\u001b[0m\u001b[1;33m]\u001b[0m\u001b[1;33m\u001b[0m\u001b[1;33m\u001b[0m\u001b[0m\n\u001b[0;32m   4406\u001b[0m         \u001b[1;32mreturn\u001b[0m \u001b[0mself\u001b[0m\u001b[1;33m.\u001b[0m\u001b[0mdelete\u001b[0m\u001b[1;33m(\u001b[0m\u001b[0mindexer\u001b[0m\u001b[1;33m)\u001b[0m\u001b[1;33m\u001b[0m\u001b[1;33m\u001b[0m\u001b[0m\n",
      "\u001b[1;31mKeyError\u001b[0m: \"['Promoted_or_Not'] not found in axis\""
     ]
    }
   ],
   "source": [
    "data_test.drop(columns='Promoted_or_Not', inplace=True)"
   ]
  },
  {
   "cell_type": "code",
   "execution_count": null,
   "metadata": {},
   "outputs": [],
   "source": []
  }
 ],
 "metadata": {
  "kernelspec": {
   "display_name": "Python 3",
   "language": "python",
   "name": "python3"
  },
  "language_info": {
   "codemirror_mode": {
    "name": "ipython",
    "version": 3
   },
   "file_extension": ".py",
   "mimetype": "text/x-python",
   "name": "python",
   "nbconvert_exporter": "python",
   "pygments_lexer": "ipython3",
   "version": "3.7.1"
  }
 },
 "nbformat": 4,
 "nbformat_minor": 2
}
