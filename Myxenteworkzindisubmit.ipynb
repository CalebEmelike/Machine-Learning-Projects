{
 "cells": [
  {
   "cell_type": "code",
   "execution_count": 45,
   "metadata": {},
   "outputs": [],
   "source": [
    "import pandas as pd\n",
    "import numpy as np\n",
    "import matplotlib.pyplot as plt\n",
    "import seaborn as sns\n",
    "import warnings\n",
    "warnings.filterwarnings('ignore')"
   ]
  },
  {
   "cell_type": "code",
   "execution_count": 66,
   "metadata": {},
   "outputs": [],
   "source": [
    "data = pd.read_csv('training.csv')\n",
    "testdata = pd.read_csv(\"test.csv\")\n",
    "sample_sub = pd.read_csv('sample_submission.csv')"
   ]
  },
  {
   "cell_type": "code",
   "execution_count": 12,
   "metadata": {},
   "outputs": [
    {
     "data": {
      "text/html": [
       "<div>\n",
       "<style scoped>\n",
       "    .dataframe tbody tr th:only-of-type {\n",
       "        vertical-align: middle;\n",
       "    }\n",
       "\n",
       "    .dataframe tbody tr th {\n",
       "        vertical-align: top;\n",
       "    }\n",
       "\n",
       "    .dataframe thead th {\n",
       "        text-align: right;\n",
       "    }\n",
       "</style>\n",
       "<table border=\"1\" class=\"dataframe\">\n",
       "  <thead>\n",
       "    <tr style=\"text-align: right;\">\n",
       "      <th></th>\n",
       "      <th>TransactionId</th>\n",
       "      <th>BatchId</th>\n",
       "      <th>AccountId</th>\n",
       "      <th>SubscriptionId</th>\n",
       "      <th>CustomerId</th>\n",
       "      <th>CurrencyCode</th>\n",
       "      <th>CountryCode</th>\n",
       "      <th>ProviderId</th>\n",
       "      <th>ProductId</th>\n",
       "      <th>ProductCategory</th>\n",
       "      <th>ChannelId</th>\n",
       "      <th>Amount</th>\n",
       "      <th>Value</th>\n",
       "      <th>TransactionStartTime</th>\n",
       "      <th>PricingStrategy</th>\n",
       "      <th>FraudResult</th>\n",
       "    </tr>\n",
       "  </thead>\n",
       "  <tbody>\n",
       "    <tr>\n",
       "      <th>6396</th>\n",
       "      <td>TransactionId_126114</td>\n",
       "      <td>BatchId_10703</td>\n",
       "      <td>AccountId_4841</td>\n",
       "      <td>SubscriptionId_3829</td>\n",
       "      <td>CustomerId_3022</td>\n",
       "      <td>UGX</td>\n",
       "      <td>256</td>\n",
       "      <td>ProviderId_4</td>\n",
       "      <td>ProductId_6</td>\n",
       "      <td>financial_services</td>\n",
       "      <td>ChannelId_2</td>\n",
       "      <td>-2000.0</td>\n",
       "      <td>2000</td>\n",
       "      <td>2018-11-23T10:20:15Z</td>\n",
       "      <td>2</td>\n",
       "      <td>0</td>\n",
       "    </tr>\n",
       "    <tr>\n",
       "      <th>48212</th>\n",
       "      <td>TransactionId_139275</td>\n",
       "      <td>BatchId_30883</td>\n",
       "      <td>AccountId_3636</td>\n",
       "      <td>SubscriptionId_3125</td>\n",
       "      <td>CustomerId_4075</td>\n",
       "      <td>UGX</td>\n",
       "      <td>256</td>\n",
       "      <td>ProviderId_1</td>\n",
       "      <td>ProductId_15</td>\n",
       "      <td>financial_services</td>\n",
       "      <td>ChannelId_3</td>\n",
       "      <td>500000.0</td>\n",
       "      <td>500000</td>\n",
       "      <td>2019-01-01T06:39:50Z</td>\n",
       "      <td>2</td>\n",
       "      <td>1</td>\n",
       "    </tr>\n",
       "    <tr>\n",
       "      <th>7432</th>\n",
       "      <td>TransactionId_127807</td>\n",
       "      <td>BatchId_68135</td>\n",
       "      <td>AccountId_335</td>\n",
       "      <td>SubscriptionId_3204</td>\n",
       "      <td>CustomerId_665</td>\n",
       "      <td>UGX</td>\n",
       "      <td>256</td>\n",
       "      <td>ProviderId_6</td>\n",
       "      <td>ProductId_10</td>\n",
       "      <td>airtime</td>\n",
       "      <td>ChannelId_3</td>\n",
       "      <td>1000.0</td>\n",
       "      <td>1000</td>\n",
       "      <td>2018-11-24T11:55:59Z</td>\n",
       "      <td>2</td>\n",
       "      <td>0</td>\n",
       "    </tr>\n",
       "    <tr>\n",
       "      <th>8015</th>\n",
       "      <td>TransactionId_81013</td>\n",
       "      <td>BatchId_94889</td>\n",
       "      <td>AccountId_1327</td>\n",
       "      <td>SubscriptionId_4463</td>\n",
       "      <td>CustomerId_1690</td>\n",
       "      <td>UGX</td>\n",
       "      <td>256</td>\n",
       "      <td>ProviderId_5</td>\n",
       "      <td>ProductId_1</td>\n",
       "      <td>airtime</td>\n",
       "      <td>ChannelId_3</td>\n",
       "      <td>1000.0</td>\n",
       "      <td>1000</td>\n",
       "      <td>2018-11-25T09:45:04Z</td>\n",
       "      <td>4</td>\n",
       "      <td>0</td>\n",
       "    </tr>\n",
       "    <tr>\n",
       "      <th>19414</th>\n",
       "      <td>TransactionId_117496</td>\n",
       "      <td>BatchId_19118</td>\n",
       "      <td>AccountId_3336</td>\n",
       "      <td>SubscriptionId_4592</td>\n",
       "      <td>CustomerId_3767</td>\n",
       "      <td>UGX</td>\n",
       "      <td>256</td>\n",
       "      <td>ProviderId_6</td>\n",
       "      <td>ProductId_3</td>\n",
       "      <td>airtime</td>\n",
       "      <td>ChannelId_3</td>\n",
       "      <td>1000.0</td>\n",
       "      <td>1000</td>\n",
       "      <td>2018-12-07T12:23:55Z</td>\n",
       "      <td>2</td>\n",
       "      <td>0</td>\n",
       "    </tr>\n",
       "  </tbody>\n",
       "</table>\n",
       "</div>"
      ],
      "text/plain": [
       "              TransactionId        BatchId       AccountId  \\\n",
       "6396   TransactionId_126114  BatchId_10703  AccountId_4841   \n",
       "48212  TransactionId_139275  BatchId_30883  AccountId_3636   \n",
       "7432   TransactionId_127807  BatchId_68135   AccountId_335   \n",
       "8015    TransactionId_81013  BatchId_94889  AccountId_1327   \n",
       "19414  TransactionId_117496  BatchId_19118  AccountId_3336   \n",
       "\n",
       "            SubscriptionId       CustomerId CurrencyCode  CountryCode  \\\n",
       "6396   SubscriptionId_3829  CustomerId_3022          UGX          256   \n",
       "48212  SubscriptionId_3125  CustomerId_4075          UGX          256   \n",
       "7432   SubscriptionId_3204   CustomerId_665          UGX          256   \n",
       "8015   SubscriptionId_4463  CustomerId_1690          UGX          256   \n",
       "19414  SubscriptionId_4592  CustomerId_3767          UGX          256   \n",
       "\n",
       "         ProviderId     ProductId     ProductCategory    ChannelId    Amount  \\\n",
       "6396   ProviderId_4   ProductId_6  financial_services  ChannelId_2   -2000.0   \n",
       "48212  ProviderId_1  ProductId_15  financial_services  ChannelId_3  500000.0   \n",
       "7432   ProviderId_6  ProductId_10             airtime  ChannelId_3    1000.0   \n",
       "8015   ProviderId_5   ProductId_1             airtime  ChannelId_3    1000.0   \n",
       "19414  ProviderId_6   ProductId_3             airtime  ChannelId_3    1000.0   \n",
       "\n",
       "        Value  TransactionStartTime  PricingStrategy  FraudResult  \n",
       "6396     2000  2018-11-23T10:20:15Z                2            0  \n",
       "48212  500000  2019-01-01T06:39:50Z                2            1  \n",
       "7432     1000  2018-11-24T11:55:59Z                2            0  \n",
       "8015     1000  2018-11-25T09:45:04Z                4            0  \n",
       "19414    1000  2018-12-07T12:23:55Z                2            0  "
      ]
     },
     "execution_count": 12,
     "metadata": {},
     "output_type": "execute_result"
    }
   ],
   "source": [
    "data.sample(5)"
   ]
  },
  {
   "cell_type": "code",
   "execution_count": 4,
   "metadata": {},
   "outputs": [
    {
     "data": {
      "text/plain": [
       "(95662, 16)"
      ]
     },
     "execution_count": 4,
     "metadata": {},
     "output_type": "execute_result"
    }
   ],
   "source": [
    "data.shape"
   ]
  },
  {
   "cell_type": "code",
   "execution_count": 7,
   "metadata": {},
   "outputs": [
    {
     "name": "stdout",
     "output_type": "stream",
     "text": [
      "<class 'pandas.core.frame.DataFrame'>\n",
      "RangeIndex: 95662 entries, 0 to 95661\n",
      "Data columns (total 16 columns):\n",
      "TransactionId           95662 non-null object\n",
      "BatchId                 95662 non-null object\n",
      "AccountId               95662 non-null object\n",
      "SubscriptionId          95662 non-null object\n",
      "CustomerId              95662 non-null object\n",
      "CurrencyCode            95662 non-null object\n",
      "CountryCode             95662 non-null int64\n",
      "ProviderId              95662 non-null object\n",
      "ProductId               95662 non-null object\n",
      "ProductCategory         95662 non-null object\n",
      "ChannelId               95662 non-null object\n",
      "Amount                  95662 non-null float64\n",
      "Value                   95662 non-null int64\n",
      "TransactionStartTime    95662 non-null object\n",
      "PricingStrategy         95662 non-null int64\n",
      "FraudResult             95662 non-null int64\n",
      "dtypes: float64(1), int64(4), object(11)\n",
      "memory usage: 11.7+ MB\n"
     ]
    }
   ],
   "source": [
    "data.info()"
   ]
  },
  {
   "cell_type": "code",
   "execution_count": 67,
   "metadata": {},
   "outputs": [],
   "source": [
    "cols_to_drop = ['TransactionId', 'BatchId', 'AccountId', 'SubscriptionId', 'CustomerId','CurrencyCode','CountryCode','ProductId','Value']\n",
    "data.drop(cols_to_drop,axis=1,inplace=True)"
   ]
  },
  {
   "cell_type": "code",
   "execution_count": 21,
   "metadata": {},
   "outputs": [
    {
     "data": {
      "text/html": [
       "<div>\n",
       "<style scoped>\n",
       "    .dataframe tbody tr th:only-of-type {\n",
       "        vertical-align: middle;\n",
       "    }\n",
       "\n",
       "    .dataframe tbody tr th {\n",
       "        vertical-align: top;\n",
       "    }\n",
       "\n",
       "    .dataframe thead th {\n",
       "        text-align: right;\n",
       "    }\n",
       "</style>\n",
       "<table border=\"1\" class=\"dataframe\">\n",
       "  <thead>\n",
       "    <tr style=\"text-align: right;\">\n",
       "      <th></th>\n",
       "      <th>ProviderId</th>\n",
       "      <th>ProductCategory</th>\n",
       "      <th>ChannelId</th>\n",
       "      <th>Amount</th>\n",
       "      <th>TransactionStartTime</th>\n",
       "      <th>PricingStrategy</th>\n",
       "      <th>FraudResult</th>\n",
       "    </tr>\n",
       "  </thead>\n",
       "  <tbody>\n",
       "    <tr>\n",
       "      <th>0</th>\n",
       "      <td>ProviderId_6</td>\n",
       "      <td>airtime</td>\n",
       "      <td>ChannelId_3</td>\n",
       "      <td>1000.0</td>\n",
       "      <td>2018-11-15T02:18:49Z</td>\n",
       "      <td>2</td>\n",
       "      <td>0</td>\n",
       "    </tr>\n",
       "    <tr>\n",
       "      <th>1</th>\n",
       "      <td>ProviderId_4</td>\n",
       "      <td>financial_services</td>\n",
       "      <td>ChannelId_2</td>\n",
       "      <td>-20.0</td>\n",
       "      <td>2018-11-15T02:19:08Z</td>\n",
       "      <td>2</td>\n",
       "      <td>0</td>\n",
       "    </tr>\n",
       "    <tr>\n",
       "      <th>2</th>\n",
       "      <td>ProviderId_6</td>\n",
       "      <td>airtime</td>\n",
       "      <td>ChannelId_3</td>\n",
       "      <td>500.0</td>\n",
       "      <td>2018-11-15T02:44:21Z</td>\n",
       "      <td>2</td>\n",
       "      <td>0</td>\n",
       "    </tr>\n",
       "    <tr>\n",
       "      <th>3</th>\n",
       "      <td>ProviderId_1</td>\n",
       "      <td>utility_bill</td>\n",
       "      <td>ChannelId_3</td>\n",
       "      <td>20000.0</td>\n",
       "      <td>2018-11-15T03:32:55Z</td>\n",
       "      <td>2</td>\n",
       "      <td>0</td>\n",
       "    </tr>\n",
       "    <tr>\n",
       "      <th>4</th>\n",
       "      <td>ProviderId_4</td>\n",
       "      <td>financial_services</td>\n",
       "      <td>ChannelId_2</td>\n",
       "      <td>-644.0</td>\n",
       "      <td>2018-11-15T03:34:21Z</td>\n",
       "      <td>2</td>\n",
       "      <td>0</td>\n",
       "    </tr>\n",
       "  </tbody>\n",
       "</table>\n",
       "</div>"
      ],
      "text/plain": [
       "     ProviderId     ProductCategory    ChannelId   Amount  \\\n",
       "0  ProviderId_6             airtime  ChannelId_3   1000.0   \n",
       "1  ProviderId_4  financial_services  ChannelId_2    -20.0   \n",
       "2  ProviderId_6             airtime  ChannelId_3    500.0   \n",
       "3  ProviderId_1        utility_bill  ChannelId_3  20000.0   \n",
       "4  ProviderId_4  financial_services  ChannelId_2   -644.0   \n",
       "\n",
       "   TransactionStartTime  PricingStrategy  FraudResult  \n",
       "0  2018-11-15T02:18:49Z                2            0  \n",
       "1  2018-11-15T02:19:08Z                2            0  \n",
       "2  2018-11-15T02:44:21Z                2            0  \n",
       "3  2018-11-15T03:32:55Z                2            0  \n",
       "4  2018-11-15T03:34:21Z                2            0  "
      ]
     },
     "execution_count": 21,
     "metadata": {},
     "output_type": "execute_result"
    }
   ],
   "source": [
    "data.head()"
   ]
  },
  {
   "cell_type": "code",
   "execution_count": 32,
   "metadata": {},
   "outputs": [
    {
     "data": {
      "text/html": [
       "<div>\n",
       "<style scoped>\n",
       "    .dataframe tbody tr th:only-of-type {\n",
       "        vertical-align: middle;\n",
       "    }\n",
       "\n",
       "    .dataframe tbody tr th {\n",
       "        vertical-align: top;\n",
       "    }\n",
       "\n",
       "    .dataframe thead th {\n",
       "        text-align: right;\n",
       "    }\n",
       "</style>\n",
       "<table border=\"1\" class=\"dataframe\">\n",
       "  <thead>\n",
       "    <tr style=\"text-align: right;\">\n",
       "      <th></th>\n",
       "      <th>TransactionId</th>\n",
       "      <th>BatchId</th>\n",
       "      <th>AccountId</th>\n",
       "      <th>SubscriptionId</th>\n",
       "      <th>CustomerId</th>\n",
       "      <th>CurrencyCode</th>\n",
       "      <th>CountryCode</th>\n",
       "      <th>ProviderId</th>\n",
       "      <th>ProductId</th>\n",
       "      <th>ProductCategory</th>\n",
       "      <th>ChannelId</th>\n",
       "      <th>Amount</th>\n",
       "      <th>Value</th>\n",
       "      <th>TransactionStartTime</th>\n",
       "      <th>PricingStrategy</th>\n",
       "    </tr>\n",
       "  </thead>\n",
       "  <tbody>\n",
       "    <tr>\n",
       "      <th>19516</th>\n",
       "      <td>TransactionId_82461</td>\n",
       "      <td>BatchId_14234</td>\n",
       "      <td>AccountId_4841</td>\n",
       "      <td>SubscriptionId_3829</td>\n",
       "      <td>CustomerId_5158</td>\n",
       "      <td>UGX</td>\n",
       "      <td>256</td>\n",
       "      <td>ProviderId_4</td>\n",
       "      <td>ProductId_6</td>\n",
       "      <td>financial_services</td>\n",
       "      <td>ChannelId_3</td>\n",
       "      <td>-75.0</td>\n",
       "      <td>75</td>\n",
       "      <td>2019-02-25T09:40:32Z</td>\n",
       "      <td>2</td>\n",
       "    </tr>\n",
       "    <tr>\n",
       "      <th>16955</th>\n",
       "      <td>TransactionId_53491</td>\n",
       "      <td>BatchId_82520</td>\n",
       "      <td>AccountId_4781</td>\n",
       "      <td>SubscriptionId_3370</td>\n",
       "      <td>CustomerId_5250</td>\n",
       "      <td>UGX</td>\n",
       "      <td>256</td>\n",
       "      <td>ProviderId_1</td>\n",
       "      <td>ProductId_15</td>\n",
       "      <td>financial_services</td>\n",
       "      <td>ChannelId_3</td>\n",
       "      <td>5000.0</td>\n",
       "      <td>5000</td>\n",
       "      <td>2019-02-22T20:04:08Z</td>\n",
       "      <td>2</td>\n",
       "    </tr>\n",
       "    <tr>\n",
       "      <th>40127</th>\n",
       "      <td>TransactionId_14072</td>\n",
       "      <td>BatchId_12891</td>\n",
       "      <td>AccountId_4841</td>\n",
       "      <td>SubscriptionId_3829</td>\n",
       "      <td>CustomerId_1175</td>\n",
       "      <td>UGX</td>\n",
       "      <td>256</td>\n",
       "      <td>ProviderId_4</td>\n",
       "      <td>ProductId_6</td>\n",
       "      <td>financial_services</td>\n",
       "      <td>ChannelId_3</td>\n",
       "      <td>-50.0</td>\n",
       "      <td>50</td>\n",
       "      <td>2019-03-10T10:39:39Z</td>\n",
       "      <td>2</td>\n",
       "    </tr>\n",
       "    <tr>\n",
       "      <th>14310</th>\n",
       "      <td>TransactionId_36110</td>\n",
       "      <td>BatchId_64972</td>\n",
       "      <td>AccountId_4154</td>\n",
       "      <td>SubscriptionId_1226</td>\n",
       "      <td>CustomerId_4606</td>\n",
       "      <td>UGX</td>\n",
       "      <td>256</td>\n",
       "      <td>ProviderId_6</td>\n",
       "      <td>ProductId_10</td>\n",
       "      <td>airtime</td>\n",
       "      <td>ChannelId_3</td>\n",
       "      <td>10000.0</td>\n",
       "      <td>10000</td>\n",
       "      <td>2019-02-22T07:24:05Z</td>\n",
       "      <td>2</td>\n",
       "    </tr>\n",
       "    <tr>\n",
       "      <th>4976</th>\n",
       "      <td>TransactionId_127309</td>\n",
       "      <td>BatchId_138502</td>\n",
       "      <td>AccountId_3128</td>\n",
       "      <td>SubscriptionId_4011</td>\n",
       "      <td>CustomerId_4910</td>\n",
       "      <td>UGX</td>\n",
       "      <td>256</td>\n",
       "      <td>ProviderId_4</td>\n",
       "      <td>ProductId_26</td>\n",
       "      <td>retail</td>\n",
       "      <td>ChannelId_5</td>\n",
       "      <td>-342000.0</td>\n",
       "      <td>342000</td>\n",
       "      <td>2019-02-15T11:51:21Z</td>\n",
       "      <td>2</td>\n",
       "    </tr>\n",
       "  </tbody>\n",
       "</table>\n",
       "</div>"
      ],
      "text/plain": [
       "              TransactionId         BatchId       AccountId  \\\n",
       "19516   TransactionId_82461   BatchId_14234  AccountId_4841   \n",
       "16955   TransactionId_53491   BatchId_82520  AccountId_4781   \n",
       "40127   TransactionId_14072   BatchId_12891  AccountId_4841   \n",
       "14310   TransactionId_36110   BatchId_64972  AccountId_4154   \n",
       "4976   TransactionId_127309  BatchId_138502  AccountId_3128   \n",
       "\n",
       "            SubscriptionId       CustomerId CurrencyCode  CountryCode  \\\n",
       "19516  SubscriptionId_3829  CustomerId_5158          UGX          256   \n",
       "16955  SubscriptionId_3370  CustomerId_5250          UGX          256   \n",
       "40127  SubscriptionId_3829  CustomerId_1175          UGX          256   \n",
       "14310  SubscriptionId_1226  CustomerId_4606          UGX          256   \n",
       "4976   SubscriptionId_4011  CustomerId_4910          UGX          256   \n",
       "\n",
       "         ProviderId     ProductId     ProductCategory    ChannelId    Amount  \\\n",
       "19516  ProviderId_4   ProductId_6  financial_services  ChannelId_3     -75.0   \n",
       "16955  ProviderId_1  ProductId_15  financial_services  ChannelId_3    5000.0   \n",
       "40127  ProviderId_4   ProductId_6  financial_services  ChannelId_3     -50.0   \n",
       "14310  ProviderId_6  ProductId_10             airtime  ChannelId_3   10000.0   \n",
       "4976   ProviderId_4  ProductId_26              retail  ChannelId_5 -342000.0   \n",
       "\n",
       "        Value  TransactionStartTime  PricingStrategy  \n",
       "19516      75  2019-02-25T09:40:32Z                2  \n",
       "16955    5000  2019-02-22T20:04:08Z                2  \n",
       "40127      50  2019-03-10T10:39:39Z                2  \n",
       "14310   10000  2019-02-22T07:24:05Z                2  \n",
       "4976   342000  2019-02-15T11:51:21Z                2  "
      ]
     },
     "execution_count": 32,
     "metadata": {},
     "output_type": "execute_result"
    }
   ],
   "source": [
    "testdata.sample(5)"
   ]
  },
  {
   "cell_type": "code",
   "execution_count": 68,
   "metadata": {},
   "outputs": [],
   "source": [
    "testdata.drop(cols_to_drop,axis=1,inplace=True)"
   ]
  },
  {
   "cell_type": "code",
   "execution_count": 34,
   "metadata": {},
   "outputs": [
    {
     "data": {
      "text/html": [
       "<div>\n",
       "<style scoped>\n",
       "    .dataframe tbody tr th:only-of-type {\n",
       "        vertical-align: middle;\n",
       "    }\n",
       "\n",
       "    .dataframe tbody tr th {\n",
       "        vertical-align: top;\n",
       "    }\n",
       "\n",
       "    .dataframe thead th {\n",
       "        text-align: right;\n",
       "    }\n",
       "</style>\n",
       "<table border=\"1\" class=\"dataframe\">\n",
       "  <thead>\n",
       "    <tr style=\"text-align: right;\">\n",
       "      <th></th>\n",
       "      <th>ProviderId</th>\n",
       "      <th>ProductCategory</th>\n",
       "      <th>ChannelId</th>\n",
       "      <th>Amount</th>\n",
       "      <th>TransactionStartTime</th>\n",
       "      <th>PricingStrategy</th>\n",
       "    </tr>\n",
       "  </thead>\n",
       "  <tbody>\n",
       "    <tr>\n",
       "      <th>0</th>\n",
       "      <td>ProviderId_5</td>\n",
       "      <td>airtime</td>\n",
       "      <td>ChannelId_3</td>\n",
       "      <td>1000.0</td>\n",
       "      <td>2019-02-13T10:01:40Z</td>\n",
       "      <td>4</td>\n",
       "    </tr>\n",
       "    <tr>\n",
       "      <th>1</th>\n",
       "      <td>ProviderId_5</td>\n",
       "      <td>financial_services</td>\n",
       "      <td>ChannelId_3</td>\n",
       "      <td>2000.0</td>\n",
       "      <td>2019-02-13T10:02:12Z</td>\n",
       "      <td>2</td>\n",
       "    </tr>\n",
       "    <tr>\n",
       "      <th>2</th>\n",
       "      <td>ProviderId_4</td>\n",
       "      <td>financial_services</td>\n",
       "      <td>ChannelId_2</td>\n",
       "      <td>-50.0</td>\n",
       "      <td>2019-02-13T10:02:30Z</td>\n",
       "      <td>2</td>\n",
       "    </tr>\n",
       "    <tr>\n",
       "      <th>3</th>\n",
       "      <td>ProviderId_5</td>\n",
       "      <td>airtime</td>\n",
       "      <td>ChannelId_3</td>\n",
       "      <td>3000.0</td>\n",
       "      <td>2019-02-13T10:02:38Z</td>\n",
       "      <td>4</td>\n",
       "    </tr>\n",
       "    <tr>\n",
       "      <th>4</th>\n",
       "      <td>ProviderId_4</td>\n",
       "      <td>financial_services</td>\n",
       "      <td>ChannelId_2</td>\n",
       "      <td>-60.0</td>\n",
       "      <td>2019-02-13T10:02:58Z</td>\n",
       "      <td>2</td>\n",
       "    </tr>\n",
       "  </tbody>\n",
       "</table>\n",
       "</div>"
      ],
      "text/plain": [
       "     ProviderId     ProductCategory    ChannelId  Amount  \\\n",
       "0  ProviderId_5             airtime  ChannelId_3  1000.0   \n",
       "1  ProviderId_5  financial_services  ChannelId_3  2000.0   \n",
       "2  ProviderId_4  financial_services  ChannelId_2   -50.0   \n",
       "3  ProviderId_5             airtime  ChannelId_3  3000.0   \n",
       "4  ProviderId_4  financial_services  ChannelId_2   -60.0   \n",
       "\n",
       "   TransactionStartTime  PricingStrategy  \n",
       "0  2019-02-13T10:01:40Z                4  \n",
       "1  2019-02-13T10:02:12Z                2  \n",
       "2  2019-02-13T10:02:30Z                2  \n",
       "3  2019-02-13T10:02:38Z                4  \n",
       "4  2019-02-13T10:02:58Z                2  "
      ]
     },
     "execution_count": 34,
     "metadata": {},
     "output_type": "execute_result"
    }
   ],
   "source": [
    "testdata.head()"
   ]
  },
  {
   "cell_type": "code",
   "execution_count": 35,
   "metadata": {},
   "outputs": [
    {
     "data": {
      "text/plain": [
       "(95662, 7)"
      ]
     },
     "execution_count": 35,
     "metadata": {},
     "output_type": "execute_result"
    }
   ],
   "source": [
    "data.shape"
   ]
  },
  {
   "cell_type": "code",
   "execution_count": 36,
   "metadata": {},
   "outputs": [
    {
     "data": {
      "text/plain": [
       "(45019, 6)"
      ]
     },
     "execution_count": 36,
     "metadata": {},
     "output_type": "execute_result"
    }
   ],
   "source": [
    "testdata.shape"
   ]
  },
  {
   "cell_type": "code",
   "execution_count": 37,
   "metadata": {},
   "outputs": [
    {
     "data": {
      "text/html": [
       "<div>\n",
       "<style scoped>\n",
       "    .dataframe tbody tr th:only-of-type {\n",
       "        vertical-align: middle;\n",
       "    }\n",
       "\n",
       "    .dataframe tbody tr th {\n",
       "        vertical-align: top;\n",
       "    }\n",
       "\n",
       "    .dataframe thead th {\n",
       "        text-align: right;\n",
       "    }\n",
       "</style>\n",
       "<table border=\"1\" class=\"dataframe\">\n",
       "  <thead>\n",
       "    <tr style=\"text-align: right;\">\n",
       "      <th></th>\n",
       "      <th>Amount</th>\n",
       "      <th>PricingStrategy</th>\n",
       "      <th>FraudResult</th>\n",
       "    </tr>\n",
       "  </thead>\n",
       "  <tbody>\n",
       "    <tr>\n",
       "      <th>count</th>\n",
       "      <td>9.566200e+04</td>\n",
       "      <td>95662.000000</td>\n",
       "      <td>95662.000000</td>\n",
       "    </tr>\n",
       "    <tr>\n",
       "      <th>mean</th>\n",
       "      <td>6.717846e+03</td>\n",
       "      <td>2.255974</td>\n",
       "      <td>0.002018</td>\n",
       "    </tr>\n",
       "    <tr>\n",
       "      <th>std</th>\n",
       "      <td>1.233068e+05</td>\n",
       "      <td>0.732924</td>\n",
       "      <td>0.044872</td>\n",
       "    </tr>\n",
       "    <tr>\n",
       "      <th>min</th>\n",
       "      <td>-1.000000e+06</td>\n",
       "      <td>0.000000</td>\n",
       "      <td>0.000000</td>\n",
       "    </tr>\n",
       "    <tr>\n",
       "      <th>25%</th>\n",
       "      <td>-5.000000e+01</td>\n",
       "      <td>2.000000</td>\n",
       "      <td>0.000000</td>\n",
       "    </tr>\n",
       "    <tr>\n",
       "      <th>50%</th>\n",
       "      <td>1.000000e+03</td>\n",
       "      <td>2.000000</td>\n",
       "      <td>0.000000</td>\n",
       "    </tr>\n",
       "    <tr>\n",
       "      <th>75%</th>\n",
       "      <td>2.800000e+03</td>\n",
       "      <td>2.000000</td>\n",
       "      <td>0.000000</td>\n",
       "    </tr>\n",
       "    <tr>\n",
       "      <th>max</th>\n",
       "      <td>9.880000e+06</td>\n",
       "      <td>4.000000</td>\n",
       "      <td>1.000000</td>\n",
       "    </tr>\n",
       "  </tbody>\n",
       "</table>\n",
       "</div>"
      ],
      "text/plain": [
       "             Amount  PricingStrategy   FraudResult\n",
       "count  9.566200e+04     95662.000000  95662.000000\n",
       "mean   6.717846e+03         2.255974      0.002018\n",
       "std    1.233068e+05         0.732924      0.044872\n",
       "min   -1.000000e+06         0.000000      0.000000\n",
       "25%   -5.000000e+01         2.000000      0.000000\n",
       "50%    1.000000e+03         2.000000      0.000000\n",
       "75%    2.800000e+03         2.000000      0.000000\n",
       "max    9.880000e+06         4.000000      1.000000"
      ]
     },
     "execution_count": 37,
     "metadata": {},
     "output_type": "execute_result"
    }
   ],
   "source": [
    "data.describe()"
   ]
  },
  {
   "cell_type": "code",
   "execution_count": 39,
   "metadata": {},
   "outputs": [
    {
     "name": "stdout",
     "output_type": "stream",
     "text": [
      "<class 'pandas.core.frame.DataFrame'>\n",
      "RangeIndex: 95662 entries, 0 to 95661\n",
      "Data columns (total 7 columns):\n",
      "ProviderId              95662 non-null object\n",
      "ProductCategory         95662 non-null object\n",
      "ChannelId               95662 non-null object\n",
      "Amount                  95662 non-null float64\n",
      "TransactionStartTime    95662 non-null object\n",
      "PricingStrategy         95662 non-null int64\n",
      "FraudResult             95662 non-null int64\n",
      "dtypes: float64(1), int64(2), object(4)\n",
      "memory usage: 5.1+ MB\n"
     ]
    }
   ],
   "source": [
    "data.info()"
   ]
  },
  {
   "cell_type": "code",
   "execution_count": 48,
   "metadata": {},
   "outputs": [
    {
     "data": {
      "text/html": [
       "<div>\n",
       "<style scoped>\n",
       "    .dataframe tbody tr th:only-of-type {\n",
       "        vertical-align: middle;\n",
       "    }\n",
       "\n",
       "    .dataframe tbody tr th {\n",
       "        vertical-align: top;\n",
       "    }\n",
       "\n",
       "    .dataframe thead th {\n",
       "        text-align: right;\n",
       "    }\n",
       "</style>\n",
       "<table border=\"1\" class=\"dataframe\">\n",
       "  <thead>\n",
       "    <tr style=\"text-align: right;\">\n",
       "      <th></th>\n",
       "      <th>ProviderId</th>\n",
       "      <th>ProductCategory</th>\n",
       "      <th>ChannelId</th>\n",
       "      <th>Amount</th>\n",
       "      <th>TransactionStartTime</th>\n",
       "      <th>PricingStrategy</th>\n",
       "      <th>FraudResult</th>\n",
       "    </tr>\n",
       "  </thead>\n",
       "  <tbody>\n",
       "    <tr>\n",
       "      <th>0</th>\n",
       "      <td>ProviderId_6</td>\n",
       "      <td>airtime</td>\n",
       "      <td>ChannelId_3</td>\n",
       "      <td>1000.0</td>\n",
       "      <td>2018-11-15T02:18:49Z</td>\n",
       "      <td>2</td>\n",
       "      <td>0</td>\n",
       "    </tr>\n",
       "    <tr>\n",
       "      <th>1</th>\n",
       "      <td>ProviderId_4</td>\n",
       "      <td>financial_services</td>\n",
       "      <td>ChannelId_2</td>\n",
       "      <td>-20.0</td>\n",
       "      <td>2018-11-15T02:19:08Z</td>\n",
       "      <td>2</td>\n",
       "      <td>0</td>\n",
       "    </tr>\n",
       "    <tr>\n",
       "      <th>2</th>\n",
       "      <td>ProviderId_6</td>\n",
       "      <td>airtime</td>\n",
       "      <td>ChannelId_3</td>\n",
       "      <td>500.0</td>\n",
       "      <td>2018-11-15T02:44:21Z</td>\n",
       "      <td>2</td>\n",
       "      <td>0</td>\n",
       "    </tr>\n",
       "    <tr>\n",
       "      <th>3</th>\n",
       "      <td>ProviderId_1</td>\n",
       "      <td>utility_bill</td>\n",
       "      <td>ChannelId_3</td>\n",
       "      <td>20000.0</td>\n",
       "      <td>2018-11-15T03:32:55Z</td>\n",
       "      <td>2</td>\n",
       "      <td>0</td>\n",
       "    </tr>\n",
       "    <tr>\n",
       "      <th>4</th>\n",
       "      <td>ProviderId_4</td>\n",
       "      <td>financial_services</td>\n",
       "      <td>ChannelId_2</td>\n",
       "      <td>-644.0</td>\n",
       "      <td>2018-11-15T03:34:21Z</td>\n",
       "      <td>2</td>\n",
       "      <td>0</td>\n",
       "    </tr>\n",
       "  </tbody>\n",
       "</table>\n",
       "</div>"
      ],
      "text/plain": [
       "     ProviderId     ProductCategory    ChannelId   Amount  \\\n",
       "0  ProviderId_6             airtime  ChannelId_3   1000.0   \n",
       "1  ProviderId_4  financial_services  ChannelId_2    -20.0   \n",
       "2  ProviderId_6             airtime  ChannelId_3    500.0   \n",
       "3  ProviderId_1        utility_bill  ChannelId_3  20000.0   \n",
       "4  ProviderId_4  financial_services  ChannelId_2   -644.0   \n",
       "\n",
       "   TransactionStartTime  PricingStrategy  FraudResult  \n",
       "0  2018-11-15T02:18:49Z                2            0  \n",
       "1  2018-11-15T02:19:08Z                2            0  \n",
       "2  2018-11-15T02:44:21Z                2            0  \n",
       "3  2018-11-15T03:32:55Z                2            0  \n",
       "4  2018-11-15T03:34:21Z                2            0  "
      ]
     },
     "execution_count": 48,
     "metadata": {},
     "output_type": "execute_result"
    }
   ],
   "source": [
    "data.head()"
   ]
  },
  {
   "cell_type": "code",
   "execution_count": 49,
   "metadata": {},
   "outputs": [],
   "source": [
    "cat_cols = data.select_dtypes(exclude=['int64','float64']).columns"
   ]
  },
  {
   "cell_type": "code",
   "execution_count": 50,
   "metadata": {},
   "outputs": [
    {
     "data": {
      "text/plain": [
       "['ProviderId', 'ProductCategory', 'ChannelId', 'TransactionStartTime']"
      ]
     },
     "execution_count": 50,
     "metadata": {},
     "output_type": "execute_result"
    }
   ],
   "source": [
    "cat_cols = list(cat_cols)\n",
    "cat_cols"
   ]
  },
  {
   "cell_type": "code",
   "execution_count": 58,
   "metadata": {},
   "outputs": [
    {
     "name": "stdout",
     "output_type": "stream",
     "text": [
      "Value count for ProviderId\n",
      "6\n",
      "______________________________________\n",
      "Value count for ProductCategory\n",
      "9\n",
      "______________________________________\n",
      "Value count for ChannelId\n",
      "4\n",
      "______________________________________\n",
      "Value count for TransactionStartTime\n",
      "94556\n",
      "______________________________________\n"
     ]
    }
   ],
   "source": [
    "for col in cat_cols:\n",
    "    print(\"Value count for {}\".format(col))\n",
    "    print(data[col].nunique())\n",
    "    print(\"_\"*38)"
   ]
  },
  {
   "cell_type": "code",
   "execution_count": 69,
   "metadata": {},
   "outputs": [],
   "source": [
    "#Convert time series column \n",
    "\n",
    "data['TransactionStartTime'] = pd.to_datetime(data['TransactionStartTime'])\n",
    "testdata['TransactionStartTime'] = pd.to_datetime(testdata['TransactionStartTime'])"
   ]
  },
  {
   "cell_type": "code",
   "execution_count": 70,
   "metadata": {},
   "outputs": [
    {
     "data": {
      "text/html": [
       "<div>\n",
       "<style scoped>\n",
       "    .dataframe tbody tr th:only-of-type {\n",
       "        vertical-align: middle;\n",
       "    }\n",
       "\n",
       "    .dataframe tbody tr th {\n",
       "        vertical-align: top;\n",
       "    }\n",
       "\n",
       "    .dataframe thead th {\n",
       "        text-align: right;\n",
       "    }\n",
       "</style>\n",
       "<table border=\"1\" class=\"dataframe\">\n",
       "  <thead>\n",
       "    <tr style=\"text-align: right;\">\n",
       "      <th></th>\n",
       "      <th>ProviderId</th>\n",
       "      <th>ProductCategory</th>\n",
       "      <th>ChannelId</th>\n",
       "      <th>Amount</th>\n",
       "      <th>TransactionStartTime</th>\n",
       "      <th>PricingStrategy</th>\n",
       "      <th>FraudResult</th>\n",
       "      <th>wk_day</th>\n",
       "      <th>Minute</th>\n",
       "      <th>Hour</th>\n",
       "      <th>Month</th>\n",
       "      <th>Year</th>\n",
       "    </tr>\n",
       "  </thead>\n",
       "  <tbody>\n",
       "    <tr>\n",
       "      <th>0</th>\n",
       "      <td>ProviderId_6</td>\n",
       "      <td>airtime</td>\n",
       "      <td>ChannelId_3</td>\n",
       "      <td>1000.0</td>\n",
       "      <td>2018-11-15 02:18:49</td>\n",
       "      <td>2</td>\n",
       "      <td>0</td>\n",
       "      <td>Thursday</td>\n",
       "      <td>18</td>\n",
       "      <td>2</td>\n",
       "      <td>11</td>\n",
       "      <td>2018</td>\n",
       "    </tr>\n",
       "    <tr>\n",
       "      <th>1</th>\n",
       "      <td>ProviderId_4</td>\n",
       "      <td>financial_services</td>\n",
       "      <td>ChannelId_2</td>\n",
       "      <td>-20.0</td>\n",
       "      <td>2018-11-15 02:19:08</td>\n",
       "      <td>2</td>\n",
       "      <td>0</td>\n",
       "      <td>Thursday</td>\n",
       "      <td>19</td>\n",
       "      <td>2</td>\n",
       "      <td>11</td>\n",
       "      <td>2018</td>\n",
       "    </tr>\n",
       "    <tr>\n",
       "      <th>2</th>\n",
       "      <td>ProviderId_6</td>\n",
       "      <td>airtime</td>\n",
       "      <td>ChannelId_3</td>\n",
       "      <td>500.0</td>\n",
       "      <td>2018-11-15 02:44:21</td>\n",
       "      <td>2</td>\n",
       "      <td>0</td>\n",
       "      <td>Thursday</td>\n",
       "      <td>44</td>\n",
       "      <td>2</td>\n",
       "      <td>11</td>\n",
       "      <td>2018</td>\n",
       "    </tr>\n",
       "    <tr>\n",
       "      <th>3</th>\n",
       "      <td>ProviderId_1</td>\n",
       "      <td>utility_bill</td>\n",
       "      <td>ChannelId_3</td>\n",
       "      <td>20000.0</td>\n",
       "      <td>2018-11-15 03:32:55</td>\n",
       "      <td>2</td>\n",
       "      <td>0</td>\n",
       "      <td>Thursday</td>\n",
       "      <td>32</td>\n",
       "      <td>3</td>\n",
       "      <td>11</td>\n",
       "      <td>2018</td>\n",
       "    </tr>\n",
       "    <tr>\n",
       "      <th>4</th>\n",
       "      <td>ProviderId_4</td>\n",
       "      <td>financial_services</td>\n",
       "      <td>ChannelId_2</td>\n",
       "      <td>-644.0</td>\n",
       "      <td>2018-11-15 03:34:21</td>\n",
       "      <td>2</td>\n",
       "      <td>0</td>\n",
       "      <td>Thursday</td>\n",
       "      <td>34</td>\n",
       "      <td>3</td>\n",
       "      <td>11</td>\n",
       "      <td>2018</td>\n",
       "    </tr>\n",
       "  </tbody>\n",
       "</table>\n",
       "</div>"
      ],
      "text/plain": [
       "     ProviderId     ProductCategory    ChannelId   Amount  \\\n",
       "0  ProviderId_6             airtime  ChannelId_3   1000.0   \n",
       "1  ProviderId_4  financial_services  ChannelId_2    -20.0   \n",
       "2  ProviderId_6             airtime  ChannelId_3    500.0   \n",
       "3  ProviderId_1        utility_bill  ChannelId_3  20000.0   \n",
       "4  ProviderId_4  financial_services  ChannelId_2   -644.0   \n",
       "\n",
       "  TransactionStartTime  PricingStrategy  FraudResult    wk_day  Minute  Hour  \\\n",
       "0  2018-11-15 02:18:49                2            0  Thursday      18     2   \n",
       "1  2018-11-15 02:19:08                2            0  Thursday      19     2   \n",
       "2  2018-11-15 02:44:21                2            0  Thursday      44     2   \n",
       "3  2018-11-15 03:32:55                2            0  Thursday      32     3   \n",
       "4  2018-11-15 03:34:21                2            0  Thursday      34     3   \n",
       "\n",
       "   Month  Year  \n",
       "0     11  2018  \n",
       "1     11  2018  \n",
       "2     11  2018  \n",
       "3     11  2018  \n",
       "4     11  2018  "
      ]
     },
     "execution_count": 70,
     "metadata": {},
     "output_type": "execute_result"
    }
   ],
   "source": [
    "#data['Day']  = data['TransactionStartTime'].dt.day\n",
    "data['wk_day']  = data['TransactionStartTime'].dt.weekday_name\n",
    "data['Minute']  = data['TransactionStartTime'].dt.minute\n",
    "data['Hour']  = data['TransactionStartTime'].dt.hour\n",
    "data['Month']  = data['TransactionStartTime'].dt.month\n",
    "data['Year']  = data['TransactionStartTime'].dt.year\n",
    "\n",
    "testdata['wk_day']  = testdata['TransactionStartTime'].dt.weekday_name\n",
    "testdata['Minute']  = testdata['TransactionStartTime'].dt.minute\n",
    "testdata['Hour']  = testdata['TransactionStartTime'].dt.hour\n",
    "testdata['Month']  = testdata['TransactionStartTime'].dt.month\n",
    "testdata['Year']  = testdata['TransactionStartTime'].dt.year\n",
    "\n",
    "data.head()"
   ]
  },
  {
   "cell_type": "code",
   "execution_count": 71,
   "metadata": {},
   "outputs": [],
   "source": [
    "data.drop(columns='TransactionStartTime',axis=1,inplace=True)\n",
    "testdata.drop(columns='TransactionStartTime',axis=1,inplace=True)"
   ]
  },
  {
   "cell_type": "code",
   "execution_count": 72,
   "metadata": {},
   "outputs": [
    {
     "data": {
      "text/html": [
       "<div>\n",
       "<style scoped>\n",
       "    .dataframe tbody tr th:only-of-type {\n",
       "        vertical-align: middle;\n",
       "    }\n",
       "\n",
       "    .dataframe tbody tr th {\n",
       "        vertical-align: top;\n",
       "    }\n",
       "\n",
       "    .dataframe thead th {\n",
       "        text-align: right;\n",
       "    }\n",
       "</style>\n",
       "<table border=\"1\" class=\"dataframe\">\n",
       "  <thead>\n",
       "    <tr style=\"text-align: right;\">\n",
       "      <th></th>\n",
       "      <th>ProviderId</th>\n",
       "      <th>ProductCategory</th>\n",
       "      <th>ChannelId</th>\n",
       "      <th>Amount</th>\n",
       "      <th>PricingStrategy</th>\n",
       "      <th>FraudResult</th>\n",
       "      <th>wk_day</th>\n",
       "      <th>Minute</th>\n",
       "      <th>Hour</th>\n",
       "      <th>Month</th>\n",
       "      <th>Year</th>\n",
       "    </tr>\n",
       "  </thead>\n",
       "  <tbody>\n",
       "    <tr>\n",
       "      <th>0</th>\n",
       "      <td>ProviderId_6</td>\n",
       "      <td>airtime</td>\n",
       "      <td>ChannelId_3</td>\n",
       "      <td>1000.0</td>\n",
       "      <td>2</td>\n",
       "      <td>0</td>\n",
       "      <td>Thursday</td>\n",
       "      <td>18</td>\n",
       "      <td>2</td>\n",
       "      <td>11</td>\n",
       "      <td>2018</td>\n",
       "    </tr>\n",
       "    <tr>\n",
       "      <th>1</th>\n",
       "      <td>ProviderId_4</td>\n",
       "      <td>financial_services</td>\n",
       "      <td>ChannelId_2</td>\n",
       "      <td>-20.0</td>\n",
       "      <td>2</td>\n",
       "      <td>0</td>\n",
       "      <td>Thursday</td>\n",
       "      <td>19</td>\n",
       "      <td>2</td>\n",
       "      <td>11</td>\n",
       "      <td>2018</td>\n",
       "    </tr>\n",
       "    <tr>\n",
       "      <th>2</th>\n",
       "      <td>ProviderId_6</td>\n",
       "      <td>airtime</td>\n",
       "      <td>ChannelId_3</td>\n",
       "      <td>500.0</td>\n",
       "      <td>2</td>\n",
       "      <td>0</td>\n",
       "      <td>Thursday</td>\n",
       "      <td>44</td>\n",
       "      <td>2</td>\n",
       "      <td>11</td>\n",
       "      <td>2018</td>\n",
       "    </tr>\n",
       "    <tr>\n",
       "      <th>3</th>\n",
       "      <td>ProviderId_1</td>\n",
       "      <td>utility_bill</td>\n",
       "      <td>ChannelId_3</td>\n",
       "      <td>20000.0</td>\n",
       "      <td>2</td>\n",
       "      <td>0</td>\n",
       "      <td>Thursday</td>\n",
       "      <td>32</td>\n",
       "      <td>3</td>\n",
       "      <td>11</td>\n",
       "      <td>2018</td>\n",
       "    </tr>\n",
       "    <tr>\n",
       "      <th>4</th>\n",
       "      <td>ProviderId_4</td>\n",
       "      <td>financial_services</td>\n",
       "      <td>ChannelId_2</td>\n",
       "      <td>-644.0</td>\n",
       "      <td>2</td>\n",
       "      <td>0</td>\n",
       "      <td>Thursday</td>\n",
       "      <td>34</td>\n",
       "      <td>3</td>\n",
       "      <td>11</td>\n",
       "      <td>2018</td>\n",
       "    </tr>\n",
       "  </tbody>\n",
       "</table>\n",
       "</div>"
      ],
      "text/plain": [
       "     ProviderId     ProductCategory    ChannelId   Amount  PricingStrategy  \\\n",
       "0  ProviderId_6             airtime  ChannelId_3   1000.0                2   \n",
       "1  ProviderId_4  financial_services  ChannelId_2    -20.0                2   \n",
       "2  ProviderId_6             airtime  ChannelId_3    500.0                2   \n",
       "3  ProviderId_1        utility_bill  ChannelId_3  20000.0                2   \n",
       "4  ProviderId_4  financial_services  ChannelId_2   -644.0                2   \n",
       "\n",
       "   FraudResult    wk_day  Minute  Hour  Month  Year  \n",
       "0            0  Thursday      18     2     11  2018  \n",
       "1            0  Thursday      19     2     11  2018  \n",
       "2            0  Thursday      44     2     11  2018  \n",
       "3            0  Thursday      32     3     11  2018  \n",
       "4            0  Thursday      34     3     11  2018  "
      ]
     },
     "execution_count": 72,
     "metadata": {},
     "output_type": "execute_result"
    }
   ],
   "source": [
    "data.head()"
   ]
  },
  {
   "cell_type": "code",
   "execution_count": 73,
   "metadata": {},
   "outputs": [
    {
     "data": {
      "text/html": [
       "<div>\n",
       "<style scoped>\n",
       "    .dataframe tbody tr th:only-of-type {\n",
       "        vertical-align: middle;\n",
       "    }\n",
       "\n",
       "    .dataframe tbody tr th {\n",
       "        vertical-align: top;\n",
       "    }\n",
       "\n",
       "    .dataframe thead th {\n",
       "        text-align: right;\n",
       "    }\n",
       "</style>\n",
       "<table border=\"1\" class=\"dataframe\">\n",
       "  <thead>\n",
       "    <tr style=\"text-align: right;\">\n",
       "      <th></th>\n",
       "      <th>ProviderId</th>\n",
       "      <th>ProductCategory</th>\n",
       "      <th>ChannelId</th>\n",
       "      <th>Amount</th>\n",
       "      <th>PricingStrategy</th>\n",
       "      <th>wk_day</th>\n",
       "      <th>Minute</th>\n",
       "      <th>Hour</th>\n",
       "      <th>Month</th>\n",
       "      <th>Year</th>\n",
       "    </tr>\n",
       "  </thead>\n",
       "  <tbody>\n",
       "    <tr>\n",
       "      <th>0</th>\n",
       "      <td>ProviderId_5</td>\n",
       "      <td>airtime</td>\n",
       "      <td>ChannelId_3</td>\n",
       "      <td>1000.0</td>\n",
       "      <td>4</td>\n",
       "      <td>Wednesday</td>\n",
       "      <td>1</td>\n",
       "      <td>10</td>\n",
       "      <td>2</td>\n",
       "      <td>2019</td>\n",
       "    </tr>\n",
       "    <tr>\n",
       "      <th>1</th>\n",
       "      <td>ProviderId_5</td>\n",
       "      <td>financial_services</td>\n",
       "      <td>ChannelId_3</td>\n",
       "      <td>2000.0</td>\n",
       "      <td>2</td>\n",
       "      <td>Wednesday</td>\n",
       "      <td>2</td>\n",
       "      <td>10</td>\n",
       "      <td>2</td>\n",
       "      <td>2019</td>\n",
       "    </tr>\n",
       "    <tr>\n",
       "      <th>2</th>\n",
       "      <td>ProviderId_4</td>\n",
       "      <td>financial_services</td>\n",
       "      <td>ChannelId_2</td>\n",
       "      <td>-50.0</td>\n",
       "      <td>2</td>\n",
       "      <td>Wednesday</td>\n",
       "      <td>2</td>\n",
       "      <td>10</td>\n",
       "      <td>2</td>\n",
       "      <td>2019</td>\n",
       "    </tr>\n",
       "    <tr>\n",
       "      <th>3</th>\n",
       "      <td>ProviderId_5</td>\n",
       "      <td>airtime</td>\n",
       "      <td>ChannelId_3</td>\n",
       "      <td>3000.0</td>\n",
       "      <td>4</td>\n",
       "      <td>Wednesday</td>\n",
       "      <td>2</td>\n",
       "      <td>10</td>\n",
       "      <td>2</td>\n",
       "      <td>2019</td>\n",
       "    </tr>\n",
       "    <tr>\n",
       "      <th>4</th>\n",
       "      <td>ProviderId_4</td>\n",
       "      <td>financial_services</td>\n",
       "      <td>ChannelId_2</td>\n",
       "      <td>-60.0</td>\n",
       "      <td>2</td>\n",
       "      <td>Wednesday</td>\n",
       "      <td>2</td>\n",
       "      <td>10</td>\n",
       "      <td>2</td>\n",
       "      <td>2019</td>\n",
       "    </tr>\n",
       "  </tbody>\n",
       "</table>\n",
       "</div>"
      ],
      "text/plain": [
       "     ProviderId     ProductCategory    ChannelId  Amount  PricingStrategy  \\\n",
       "0  ProviderId_5             airtime  ChannelId_3  1000.0                4   \n",
       "1  ProviderId_5  financial_services  ChannelId_3  2000.0                2   \n",
       "2  ProviderId_4  financial_services  ChannelId_2   -50.0                2   \n",
       "3  ProviderId_5             airtime  ChannelId_3  3000.0                4   \n",
       "4  ProviderId_4  financial_services  ChannelId_2   -60.0                2   \n",
       "\n",
       "      wk_day  Minute  Hour  Month  Year  \n",
       "0  Wednesday       1    10      2  2019  \n",
       "1  Wednesday       2    10      2  2019  \n",
       "2  Wednesday       2    10      2  2019  \n",
       "3  Wednesday       2    10      2  2019  \n",
       "4  Wednesday       2    10      2  2019  "
      ]
     },
     "execution_count": 73,
     "metadata": {},
     "output_type": "execute_result"
    }
   ],
   "source": [
    "testdata.head()"
   ]
  },
  {
   "cell_type": "code",
   "execution_count": 74,
   "metadata": {},
   "outputs": [
    {
     "data": {
      "text/plain": [
       "ProviderId          object\n",
       "ProductCategory     object\n",
       "ChannelId           object\n",
       "Amount             float64\n",
       "PricingStrategy      int64\n",
       "FraudResult          int64\n",
       "wk_day              object\n",
       "Minute               int64\n",
       "Hour                 int64\n",
       "Month                int64\n",
       "Year                 int64\n",
       "dtype: object"
      ]
     },
     "execution_count": 74,
     "metadata": {},
     "output_type": "execute_result"
    }
   ],
   "source": [
    "data.dtypes"
   ]
  },
  {
   "cell_type": "code",
   "execution_count": 75,
   "metadata": {},
   "outputs": [
    {
     "data": {
      "text/plain": [
       "<matplotlib.axes._subplots.AxesSubplot at 0x133d8da2e48>"
      ]
     },
     "execution_count": 75,
     "metadata": {},
     "output_type": "execute_result"
    },
    {
     "data": {
      "image/png": "[encoded data removed]",
      "text/plain": [
       "<Figure size 432x288 with 1 Axes>"
      ]
     },
     "metadata": {
      "needs_background": "light"
     },
     "output_type": "display_data"
    }
   ],
   "source": [
    "sns.kdeplot(data['Amount'])"
   ]
  },
  {
   "cell_type": "code",
   "execution_count": 76,
   "metadata": {},
   "outputs": [
    {
     "data": {
      "text/plain": [
       "<matplotlib.axes._subplots.AxesSubplot at 0x133de341e48>"
      ]
     },
     "execution_count": 76,
     "metadata": {},
     "output_type": "execute_result"
    },
    {
     "data": {
      "image/png": "[encoded data removed]",
      "text/plain": [
       "<Figure size 432x288 with 1 Axes>"
      ]
     },
     "metadata": {
      "needs_background": "light"
     },
     "output_type": "display_data"
    }
   ],
   "source": [
    "sns.distplot(testdata['Amount'])"
   ]
  },
  {
   "cell_type": "code",
   "execution_count": null,
   "metadata": {},
   "outputs": [],
   "source": []
  },
  {
   "cell_type": "code",
   "execution_count": 83,
   "metadata": {},
   "outputs": [],
   "source": [
    "#Log1p helps us transform our data from been Left_skewed to a Normal data\n",
    "\n",
    "data[\"Amount\"] = np.log1p(data[\"Amount\"])\n",
    "testdata[\"Amount\"] = np.log1p(testdata[\"Amount\"])"
   ]
  },
  {
   "cell_type": "code",
   "execution_count": 84,
   "metadata": {},
   "outputs": [
    {
     "data": {
      "text/plain": [
       "<matplotlib.axes._subplots.AxesSubplot at 0x133dbd91978>"
      ]
     },
     "execution_count": 84,
     "metadata": {},
     "output_type": "execute_result"
    },
    {
     "data": {
      "image/png": "[encoded data removed]",
      "text/plain": [
       "<Figure size 432x288 with 1 Axes>"
      ]
     },
     "metadata": {
      "needs_background": "light"
     },
     "output_type": "display_data"
    }
   ],
   "source": [
    "sns.kdeplot(data['Amount'],shade=True)"
   ]
  },
  {
   "cell_type": "code",
   "execution_count": 82,
   "metadata": {},
   "outputs": [
    {
     "data": {
      "text/plain": [
       "<matplotlib.axes._subplots.AxesSubplot at 0x133e0c9f160>"
      ]
     },
     "execution_count": 82,
     "metadata": {},
     "output_type": "execute_result"
    },
    {
     "data": {
      "image/png": "[encoded data removed]",
      "text/plain": [
       "<Figure size 432x288 with 1 Axes>"
      ]
     },
     "metadata": {
      "needs_background": "light"
     },
     "output_type": "display_data"
    }
   ],
   "source": [
    "sns.kdeplot(testdata['Amount'],shade=True)"
   ]
  },
  {
   "cell_type": "code",
   "execution_count": 85,
   "metadata": {},
   "outputs": [
    {
     "data": {
      "text/plain": [
       "<matplotlib.axes._subplots.AxesSubplot at 0x133e0aa7ef0>"
      ]
     },
     "execution_count": 85,
     "metadata": {},
     "output_type": "execute_result"
    },
    {
     "data": {
      "image/png": "[encoded data removed]",
      "text/plain": [
       "<Figure size 432x288 with 1 Axes>"
      ]
     },
     "metadata": {
      "needs_background": "light"
     },
     "output_type": "display_data"
    }
   ],
   "source": [
    "sns.boxplot(x='FraudResult', y='Amount', data=data)"
   ]
  },
  {
   "cell_type": "code",
   "execution_count": 88,
   "metadata": {},
   "outputs": [
    {
     "data": {
      "text/plain": [
       "ProviderId             0\n",
       "ProductCategory        0\n",
       "ChannelId              0\n",
       "Amount             38189\n",
       "PricingStrategy        0\n",
       "FraudResult            0\n",
       "wk_day                 0\n",
       "Minute                 0\n",
       "Hour                   0\n",
       "Month                  0\n",
       "Year                   0\n",
       "dtype: int64"
      ]
     },
     "execution_count": 88,
     "metadata": {},
     "output_type": "execute_result"
    }
   ],
   "source": [
    "data.isnull().sum()"
   ]
  },
  {
   "cell_type": "code",
   "execution_count": 90,
   "metadata": {},
   "outputs": [
    {
     "data": {
      "text/plain": [
       "2.174068418859747"
      ]
     },
     "execution_count": 90,
     "metadata": {},
     "output_type": "execute_result"
    }
   ],
   "source": [
    "data['Amount'].mean()"
   ]
  },
  {
   "cell_type": "code",
   "execution_count": 91,
   "metadata": {},
   "outputs": [],
   "source": [
    "#How to treat misssing values in a dataset\n",
    "data[\"Amount\"].fillna((data[\"Amount\"].mean()), inplace=True)"
   ]
  },
  {
   "cell_type": "code",
   "execution_count": 92,
   "metadata": {},
   "outputs": [
    {
     "data": {
      "text/plain": [
       "ProviderId         0\n",
       "ProductCategory    0\n",
       "ChannelId          0\n",
       "Amount             0\n",
       "PricingStrategy    0\n",
       "FraudResult        0\n",
       "wk_day             0\n",
       "Minute             0\n",
       "Hour               0\n",
       "Month              0\n",
       "Year               0\n",
       "dtype: int64"
      ]
     },
     "execution_count": 92,
     "metadata": {},
     "output_type": "execute_result"
    }
   ],
   "source": [
    "data.isnull().sum()"
   ]
  },
  {
   "cell_type": "code",
   "execution_count": 93,
   "metadata": {},
   "outputs": [
    {
     "data": {
      "text/plain": [
       "ProviderId             0\n",
       "ProductCategory        0\n",
       "ChannelId              0\n",
       "Amount             18254\n",
       "PricingStrategy        0\n",
       "wk_day                 0\n",
       "Minute                 0\n",
       "Hour                   0\n",
       "Month                  0\n",
       "Year                   0\n",
       "dtype: int64"
      ]
     },
     "execution_count": 93,
     "metadata": {},
     "output_type": "execute_result"
    }
   ],
   "source": [
    "testdata.isnull().sum()"
   ]
  },
  {
   "cell_type": "code",
   "execution_count": 95,
   "metadata": {},
   "outputs": [
    {
     "data": {
      "text/plain": [
       "2.190372763649749"
      ]
     },
     "execution_count": 95,
     "metadata": {},
     "output_type": "execute_result"
    }
   ],
   "source": [
    "testdata['Amount'].mean()"
   ]
  },
  {
   "cell_type": "code",
   "execution_count": 96,
   "metadata": {},
   "outputs": [],
   "source": [
    "testdata['Amount'].fillna((testdata['Amount'].mean()),inplace=True)"
   ]
  },
  {
   "cell_type": "code",
   "execution_count": 97,
   "metadata": {},
   "outputs": [
    {
     "data": {
      "text/plain": [
       "ProviderId         0\n",
       "ProductCategory    0\n",
       "ChannelId          0\n",
       "Amount             0\n",
       "PricingStrategy    0\n",
       "wk_day             0\n",
       "Minute             0\n",
       "Hour               0\n",
       "Month              0\n",
       "Year               0\n",
       "dtype: int64"
      ]
     },
     "execution_count": 97,
     "metadata": {},
     "output_type": "execute_result"
    }
   ],
   "source": [
    "testdata.isnull().sum()"
   ]
  },
  {
   "cell_type": "code",
   "execution_count": 98,
   "metadata": {},
   "outputs": [],
   "source": [
    "all_data = pd.concat([data, testdata])"
   ]
  },
  {
   "cell_type": "code",
   "execution_count": 99,
   "metadata": {},
   "outputs": [
    {
     "data": {
      "text/html": [
       "<div>\n",
       "<style scoped>\n",
       "    .dataframe tbody tr th:only-of-type {\n",
       "        vertical-align: middle;\n",
       "    }\n",
       "\n",
       "    .dataframe tbody tr th {\n",
       "        vertical-align: top;\n",
       "    }\n",
       "\n",
       "    .dataframe thead th {\n",
       "        text-align: right;\n",
       "    }\n",
       "</style>\n",
       "<table border=\"1\" class=\"dataframe\">\n",
       "  <thead>\n",
       "    <tr style=\"text-align: right;\">\n",
       "      <th></th>\n",
       "      <th>Amount</th>\n",
       "      <th>ChannelId</th>\n",
       "      <th>FraudResult</th>\n",
       "      <th>Hour</th>\n",
       "      <th>Minute</th>\n",
       "      <th>Month</th>\n",
       "      <th>PricingStrategy</th>\n",
       "      <th>ProductCategory</th>\n",
       "      <th>ProviderId</th>\n",
       "      <th>Year</th>\n",
       "      <th>wk_day</th>\n",
       "    </tr>\n",
       "  </thead>\n",
       "  <tbody>\n",
       "    <tr>\n",
       "      <th>0</th>\n",
       "      <td>2.067970</td>\n",
       "      <td>ChannelId_3</td>\n",
       "      <td>0.0</td>\n",
       "      <td>2</td>\n",
       "      <td>18</td>\n",
       "      <td>11</td>\n",
       "      <td>2</td>\n",
       "      <td>airtime</td>\n",
       "      <td>ProviderId_6</td>\n",
       "      <td>2018</td>\n",
       "      <td>Thursday</td>\n",
       "    </tr>\n",
       "    <tr>\n",
       "      <th>1</th>\n",
       "      <td>2.174068</td>\n",
       "      <td>ChannelId_2</td>\n",
       "      <td>0.0</td>\n",
       "      <td>2</td>\n",
       "      <td>19</td>\n",
       "      <td>11</td>\n",
       "      <td>2</td>\n",
       "      <td>financial_services</td>\n",
       "      <td>ProviderId_4</td>\n",
       "      <td>2018</td>\n",
       "      <td>Thursday</td>\n",
       "    </tr>\n",
       "    <tr>\n",
       "      <th>2</th>\n",
       "      <td>1.976385</td>\n",
       "      <td>ChannelId_3</td>\n",
       "      <td>0.0</td>\n",
       "      <td>2</td>\n",
       "      <td>44</td>\n",
       "      <td>11</td>\n",
       "      <td>2</td>\n",
       "      <td>airtime</td>\n",
       "      <td>ProviderId_6</td>\n",
       "      <td>2018</td>\n",
       "      <td>Thursday</td>\n",
       "    </tr>\n",
       "    <tr>\n",
       "      <th>3</th>\n",
       "      <td>2.389087</td>\n",
       "      <td>ChannelId_3</td>\n",
       "      <td>0.0</td>\n",
       "      <td>3</td>\n",
       "      <td>32</td>\n",
       "      <td>11</td>\n",
       "      <td>2</td>\n",
       "      <td>utility_bill</td>\n",
       "      <td>ProviderId_1</td>\n",
       "      <td>2018</td>\n",
       "      <td>Thursday</td>\n",
       "    </tr>\n",
       "    <tr>\n",
       "      <th>4</th>\n",
       "      <td>2.174068</td>\n",
       "      <td>ChannelId_2</td>\n",
       "      <td>0.0</td>\n",
       "      <td>3</td>\n",
       "      <td>34</td>\n",
       "      <td>11</td>\n",
       "      <td>2</td>\n",
       "      <td>financial_services</td>\n",
       "      <td>ProviderId_4</td>\n",
       "      <td>2018</td>\n",
       "      <td>Thursday</td>\n",
       "    </tr>\n",
       "  </tbody>\n",
       "</table>\n",
       "</div>"
      ],
      "text/plain": [
       "     Amount    ChannelId  FraudResult  Hour  Minute  Month  PricingStrategy  \\\n",
       "0  2.067970  ChannelId_3          0.0     2      18     11                2   \n",
       "1  2.174068  ChannelId_2          0.0     2      19     11                2   \n",
       "2  1.976385  ChannelId_3          0.0     2      44     11                2   \n",
       "3  2.389087  ChannelId_3          0.0     3      32     11                2   \n",
       "4  2.174068  ChannelId_2          0.0     3      34     11                2   \n",
       "\n",
       "      ProductCategory    ProviderId  Year    wk_day  \n",
       "0             airtime  ProviderId_6  2018  Thursday  \n",
       "1  financial_services  ProviderId_4  2018  Thursday  \n",
       "2             airtime  ProviderId_6  2018  Thursday  \n",
       "3        utility_bill  ProviderId_1  2018  Thursday  \n",
       "4  financial_services  ProviderId_4  2018  Thursday  "
      ]
     },
     "execution_count": 99,
     "metadata": {},
     "output_type": "execute_result"
    }
   ],
   "source": [
    "all_data.head()"
   ]
  },
  {
   "cell_type": "code",
   "execution_count": 105,
   "metadata": {},
   "outputs": [],
   "source": [
    "#Next thing is we transform nominal values to numerical values through an encoding scheme called LabelEnccoder\n",
    "\n"
   ]
  },
  {
   "cell_type": "code",
   "execution_count": 103,
   "metadata": {},
   "outputs": [],
   "source": [
    "cat_cols = all_data.select_dtypes(exclude=['int64','float64']).columns"
   ]
  },
  {
   "cell_type": "code",
   "execution_count": 104,
   "metadata": {},
   "outputs": [
    {
     "data": {
      "text/plain": [
       "['ChannelId', 'ProductCategory', 'ProviderId', 'wk_day']"
      ]
     },
     "execution_count": 104,
     "metadata": {},
     "output_type": "execute_result"
    }
   ],
   "source": [
    "cat_cols = list(cat_cols)\n",
    "cat_cols"
   ]
  },
  {
   "cell_type": "code",
   "execution_count": 106,
   "metadata": {},
   "outputs": [],
   "source": [
    "from sklearn.preprocessing import LabelEncoder"
   ]
  },
  {
   "cell_type": "code",
   "execution_count": 116,
   "metadata": {},
   "outputs": [],
   "source": [
    "lb = LabelEncoder()\n",
    "\n",
    "for col in cat_cols:\n",
    "    lb.fit(all_data[col])\n",
    "    all_data[col] = lb.transform(all_data[col])"
   ]
  },
  {
   "cell_type": "code",
   "execution_count": 117,
   "metadata": {},
   "outputs": [
    {
     "data": {
      "text/html": [
       "<div>\n",
       "<style scoped>\n",
       "    .dataframe tbody tr th:only-of-type {\n",
       "        vertical-align: middle;\n",
       "    }\n",
       "\n",
       "    .dataframe tbody tr th {\n",
       "        vertical-align: top;\n",
       "    }\n",
       "\n",
       "    .dataframe thead th {\n",
       "        text-align: right;\n",
       "    }\n",
       "</style>\n",
       "<table border=\"1\" class=\"dataframe\">\n",
       "  <thead>\n",
       "    <tr style=\"text-align: right;\">\n",
       "      <th></th>\n",
       "      <th>Amount</th>\n",
       "      <th>ChannelId</th>\n",
       "      <th>FraudResult</th>\n",
       "      <th>Hour</th>\n",
       "      <th>Minute</th>\n",
       "      <th>Month</th>\n",
       "      <th>PricingStrategy</th>\n",
       "      <th>ProductCategory</th>\n",
       "      <th>ProviderId</th>\n",
       "      <th>Year</th>\n",
       "      <th>wk_day</th>\n",
       "    </tr>\n",
       "  </thead>\n",
       "  <tbody>\n",
       "    <tr>\n",
       "      <th>88216</th>\n",
       "      <td>2.229401</td>\n",
       "      <td>2</td>\n",
       "      <td>0.0</td>\n",
       "      <td>19</td>\n",
       "      <td>7</td>\n",
       "      <td>2</td>\n",
       "      <td>2</td>\n",
       "      <td>2</td>\n",
       "      <td>4</td>\n",
       "      <td>2019</td>\n",
       "      <td>4</td>\n",
       "    </tr>\n",
       "    <tr>\n",
       "      <th>14240</th>\n",
       "      <td>2.174068</td>\n",
       "      <td>1</td>\n",
       "      <td>0.0</td>\n",
       "      <td>19</td>\n",
       "      <td>48</td>\n",
       "      <td>12</td>\n",
       "      <td>2</td>\n",
       "      <td>2</td>\n",
       "      <td>3</td>\n",
       "      <td>2018</td>\n",
       "      <td>1</td>\n",
       "    </tr>\n",
       "    <tr>\n",
       "      <th>32799</th>\n",
       "      <td>2.323411</td>\n",
       "      <td>2</td>\n",
       "      <td>0.0</td>\n",
       "      <td>13</td>\n",
       "      <td>37</td>\n",
       "      <td>12</td>\n",
       "      <td>2</td>\n",
       "      <td>0</td>\n",
       "      <td>5</td>\n",
       "      <td>2018</td>\n",
       "      <td>6</td>\n",
       "    </tr>\n",
       "    <tr>\n",
       "      <th>67150</th>\n",
       "      <td>2.067970</td>\n",
       "      <td>2</td>\n",
       "      <td>0.0</td>\n",
       "      <td>15</td>\n",
       "      <td>10</td>\n",
       "      <td>1</td>\n",
       "      <td>2</td>\n",
       "      <td>0</td>\n",
       "      <td>5</td>\n",
       "      <td>2019</td>\n",
       "      <td>1</td>\n",
       "    </tr>\n",
       "    <tr>\n",
       "      <th>44863</th>\n",
       "      <td>2.249786</td>\n",
       "      <td>2</td>\n",
       "      <td>NaN</td>\n",
       "      <td>21</td>\n",
       "      <td>46</td>\n",
       "      <td>3</td>\n",
       "      <td>2</td>\n",
       "      <td>2</td>\n",
       "      <td>4</td>\n",
       "      <td>2019</td>\n",
       "      <td>4</td>\n",
       "    </tr>\n",
       "  </tbody>\n",
       "</table>\n",
       "</div>"
      ],
      "text/plain": [
       "         Amount  ChannelId  FraudResult  Hour  Minute  Month  PricingStrategy  \\\n",
       "88216  2.229401          2          0.0    19       7      2                2   \n",
       "14240  2.174068          1          0.0    19      48     12                2   \n",
       "32799  2.323411          2          0.0    13      37     12                2   \n",
       "67150  2.067970          2          0.0    15      10      1                2   \n",
       "44863  2.249786          2          NaN    21      46      3                2   \n",
       "\n",
       "       ProductCategory  ProviderId  Year  wk_day  \n",
       "88216                2           4  2019       4  \n",
       "14240                2           3  2018       1  \n",
       "32799                0           5  2018       6  \n",
       "67150                0           5  2019       1  \n",
       "44863                2           4  2019       4  "
      ]
     },
     "execution_count": 117,
     "metadata": {},
     "output_type": "execute_result"
    }
   ],
   "source": [
    "all_data.sample(5)"
   ]
  },
  {
   "cell_type": "code",
   "execution_count": 118,
   "metadata": {},
   "outputs": [
    {
     "data": {
      "text/plain": [
       "(140681, 11)"
      ]
     },
     "execution_count": 118,
     "metadata": {},
     "output_type": "execute_result"
    }
   ],
   "source": [
    "all_data.shape"
   ]
  },
  {
   "cell_type": "code",
   "execution_count": 120,
   "metadata": {},
   "outputs": [],
   "source": [
    "#Slice the data concatenated to split them as ur test and train set\n",
    "train = all_data[0:95662]\n",
    "test = all_data[95662:]"
   ]
  },
  {
   "cell_type": "code",
   "execution_count": 121,
   "metadata": {},
   "outputs": [],
   "source": [
    "test.drop(columns='FraudResult', inplace=True)"
   ]
  },
  {
   "cell_type": "code",
   "execution_count": 122,
   "metadata": {},
   "outputs": [],
   "source": [
    "X = train.loc[:, train.columns != 'FraudResult']\n",
    "y = train.loc[:, train.columns == 'FraudResult']"
   ]
  },
  {
   "cell_type": "code",
   "execution_count": 123,
   "metadata": {},
   "outputs": [
    {
     "data": {
      "text/html": [
       "<div>\n",
       "<style scoped>\n",
       "    .dataframe tbody tr th:only-of-type {\n",
       "        vertical-align: middle;\n",
       "    }\n",
       "\n",
       "    .dataframe tbody tr th {\n",
       "        vertical-align: top;\n",
       "    }\n",
       "\n",
       "    .dataframe thead th {\n",
       "        text-align: right;\n",
       "    }\n",
       "</style>\n",
       "<table border=\"1\" class=\"dataframe\">\n",
       "  <thead>\n",
       "    <tr style=\"text-align: right;\">\n",
       "      <th></th>\n",
       "      <th>Amount</th>\n",
       "      <th>ChannelId</th>\n",
       "      <th>Hour</th>\n",
       "      <th>Minute</th>\n",
       "      <th>Month</th>\n",
       "      <th>PricingStrategy</th>\n",
       "      <th>ProductCategory</th>\n",
       "      <th>ProviderId</th>\n",
       "      <th>Year</th>\n",
       "      <th>wk_day</th>\n",
       "    </tr>\n",
       "  </thead>\n",
       "  <tbody>\n",
       "    <tr>\n",
       "      <th>0</th>\n",
       "      <td>2.067970</td>\n",
       "      <td>2</td>\n",
       "      <td>2</td>\n",
       "      <td>18</td>\n",
       "      <td>11</td>\n",
       "      <td>2</td>\n",
       "      <td>0</td>\n",
       "      <td>5</td>\n",
       "      <td>2018</td>\n",
       "      <td>4</td>\n",
       "    </tr>\n",
       "    <tr>\n",
       "      <th>1</th>\n",
       "      <td>2.174068</td>\n",
       "      <td>1</td>\n",
       "      <td>2</td>\n",
       "      <td>19</td>\n",
       "      <td>11</td>\n",
       "      <td>2</td>\n",
       "      <td>2</td>\n",
       "      <td>3</td>\n",
       "      <td>2018</td>\n",
       "      <td>4</td>\n",
       "    </tr>\n",
       "    <tr>\n",
       "      <th>2</th>\n",
       "      <td>1.976385</td>\n",
       "      <td>2</td>\n",
       "      <td>2</td>\n",
       "      <td>44</td>\n",
       "      <td>11</td>\n",
       "      <td>2</td>\n",
       "      <td>0</td>\n",
       "      <td>5</td>\n",
       "      <td>2018</td>\n",
       "      <td>4</td>\n",
       "    </tr>\n",
       "    <tr>\n",
       "      <th>3</th>\n",
       "      <td>2.389087</td>\n",
       "      <td>2</td>\n",
       "      <td>3</td>\n",
       "      <td>32</td>\n",
       "      <td>11</td>\n",
       "      <td>2</td>\n",
       "      <td>9</td>\n",
       "      <td>0</td>\n",
       "      <td>2018</td>\n",
       "      <td>4</td>\n",
       "    </tr>\n",
       "    <tr>\n",
       "      <th>4</th>\n",
       "      <td>2.174068</td>\n",
       "      <td>1</td>\n",
       "      <td>3</td>\n",
       "      <td>34</td>\n",
       "      <td>11</td>\n",
       "      <td>2</td>\n",
       "      <td>2</td>\n",
       "      <td>3</td>\n",
       "      <td>2018</td>\n",
       "      <td>4</td>\n",
       "    </tr>\n",
       "  </tbody>\n",
       "</table>\n",
       "</div>"
      ],
      "text/plain": [
       "     Amount  ChannelId  Hour  Minute  Month  PricingStrategy  ProductCategory  \\\n",
       "0  2.067970          2     2      18     11                2                0   \n",
       "1  2.174068          1     2      19     11                2                2   \n",
       "2  1.976385          2     2      44     11                2                0   \n",
       "3  2.389087          2     3      32     11                2                9   \n",
       "4  2.174068          1     3      34     11                2                2   \n",
       "\n",
       "   ProviderId  Year  wk_day  \n",
       "0           5  2018       4  \n",
       "1           3  2018       4  \n",
       "2           5  2018       4  \n",
       "3           0  2018       4  \n",
       "4           3  2018       4  "
      ]
     },
     "execution_count": 123,
     "metadata": {},
     "output_type": "execute_result"
    }
   ],
   "source": [
    "X.head()"
   ]
  },
  {
   "cell_type": "code",
   "execution_count": 124,
   "metadata": {},
   "outputs": [
    {
     "data": {
      "text/plain": [
       "(95662, 10)"
      ]
     },
     "execution_count": 124,
     "metadata": {},
     "output_type": "execute_result"
    }
   ],
   "source": [
    "X.shape"
   ]
  },
  {
   "cell_type": "code",
   "execution_count": 125,
   "metadata": {},
   "outputs": [
    {
     "data": {
      "text/plain": [
       "(95662, 1)"
      ]
     },
     "execution_count": 125,
     "metadata": {},
     "output_type": "execute_result"
    }
   ],
   "source": [
    "y.shape"
   ]
  },
  {
   "cell_type": "code",
   "execution_count": 126,
   "metadata": {},
   "outputs": [],
   "source": [
    "from sklearn.preprocessing import StandardScaler"
   ]
  },
  {
   "cell_type": "code",
   "execution_count": 127,
   "metadata": {},
   "outputs": [],
   "source": [
    "sc = StandardScaler()\n",
    "X = sc.fit_transform(X)\n",
    "test = sc.transform(test)"
   ]
  },
  {
   "cell_type": "code",
   "execution_count": 128,
   "metadata": {},
   "outputs": [],
   "source": [
    "from sklearn.model_selection import train_test_split"
   ]
  },
  {
   "cell_type": "code",
   "execution_count": 161,
   "metadata": {},
   "outputs": [],
   "source": [
    "X_train,X_test,y_train,y_test = train_test_split(X, y, test_size = 0.22, random_state = 1)"
   ]
  },
  {
   "cell_type": "code",
   "execution_count": 162,
   "metadata": {},
   "outputs": [],
   "source": [
    "from sklearn.metrics import f1_score"
   ]
  },
  {
   "cell_type": "code",
   "execution_count": 163,
   "metadata": {},
   "outputs": [],
   "source": [
    "from sklearn.linear_model import LogisticRegression\n",
    "from sklearn.neighbors import KNeighborsClassifier\n",
    "from sklearn.tree import DecisionTreeClassifier\n",
    "from sklearn.ensemble import RandomForestClassifier\n",
    "from xgboost import XGBClassifier"
   ]
  },
  {
   "cell_type": "code",
   "execution_count": 164,
   "metadata": {},
   "outputs": [],
   "source": [
    "Dc_model = DecisionTreeClassifier(random_state=1)\n",
    "Dc_model.fit(X_train,y_train)\n",
    "Dc_pred = Dc_model.predict(X_test)"
   ]
  },
  {
   "cell_type": "code",
   "execution_count": 165,
   "metadata": {},
   "outputs": [
    {
     "data": {
      "text/plain": [
       "0.8139534883720929"
      ]
     },
     "execution_count": 165,
     "metadata": {},
     "output_type": "execute_result"
    }
   ],
   "source": [
    "f1_score(Dc_pred, y_test)"
   ]
  },
  {
   "cell_type": "code",
   "execution_count": null,
   "metadata": {},
   "outputs": [],
   "source": []
  },
  {
   "cell_type": "code",
   "execution_count": 166,
   "metadata": {},
   "outputs": [],
   "source": [
    "Rf = RandomForestClassifier(n_estimators=600,random_state=1,max_depth=6)\n",
    "Rf.fit(X_train,y_train)\n",
    "Rf_pred = Rf.predict(X_test)"
   ]
  },
  {
   "cell_type": "code",
   "execution_count": 167,
   "metadata": {},
   "outputs": [
    {
     "data": {
      "text/plain": [
       "0.8333333333333334"
      ]
     },
     "execution_count": 167,
     "metadata": {},
     "output_type": "execute_result"
    }
   ],
   "source": [
    "f1_score(Rf_pred, y_test)"
   ]
  },
  {
   "cell_type": "code",
   "execution_count": null,
   "metadata": {},
   "outputs": [],
   "source": []
  },
  {
   "cell_type": "code",
   "execution_count": 168,
   "metadata": {},
   "outputs": [
    {
     "data": {
      "text/plain": [
       "0.8863636363636365"
      ]
     },
     "execution_count": 168,
     "metadata": {},
     "output_type": "execute_result"
    }
   ],
   "source": [
    "xgb= XGBClassifier(random_state=1,n_estimators=600,max_depth=6,learning_rate=0.3,gamma=0.2)\n",
    "xgb.fit(X_train,y_train)\n",
    "xgb_pred = xgb.predict(X_test)\n",
    "f1_score(xgb_pred, y_test)"
   ]
  },
  {
   "cell_type": "code",
   "execution_count": null,
   "metadata": {},
   "outputs": [],
   "source": []
  }
 ],
 "metadata": {
  "kernelspec": {
   "display_name": "Python 3",
   "language": "python",
   "name": "python3"
  },
  "language_info": {
   "codemirror_mode": {
    "name": "ipython",
    "version": 3
   },
   "file_extension": ".py",
   "mimetype": "text/x-python",
   "name": "python",
   "nbconvert_exporter": "python",
   "pygments_lexer": "ipython3",
   "version": "3.7.3"
  }
 },
 "nbformat": 4,
 "nbformat_minor": 4
}
